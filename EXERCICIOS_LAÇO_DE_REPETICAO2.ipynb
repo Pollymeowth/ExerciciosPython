{
  "nbformat": 4,
  "nbformat_minor": 0,
  "metadata": {
    "colab": {
      "provenance": [],
      "authorship_tag": "ABX9TyM59dlkjXzZWtjRKaLkJNbb",
      "include_colab_link": true
    },
    "kernelspec": {
      "name": "python3",
      "display_name": "Python 3"
    },
    "language_info": {
      "name": "python"
    }
  },
  "cells": [
    {
      "cell_type": "markdown",
      "metadata": {
        "id": "view-in-github",
        "colab_type": "text"
      },
      "source": [
        "<a href=\"https://colab.research.google.com/github/Pollymeowth/ExerciciosPython/blob/main/EXERCICIOS_LA%C3%87O_DE_REPETICAO2.ipynb\" target=\"_parent\"><img src=\"https://colab.research.google.com/assets/colab-badge.svg\" alt=\"Open In Colab\"/></a>"
      ]
    },
    {
      "cell_type": "markdown",
      "source": [
        " Intermediário 5 –  *Faça um programa que leia três valores (A, B, C) e mostre-os na ordem lida.  Em seguida, mostre-os em ordem crescente e decrescente.*"
      ],
      "metadata": {
        "id": "Gyccd_RsZJ-G"
      }
    },
    {
      "cell_type": "code",
      "source": [
        "cont=1\n",
        "a=(input(\"Digite o primeiro valor:\"))\n",
        "b=(input(\"Digite o segundo valor:\"))\n",
        "c=(input(\"Digite o terceiro valor:\"))\n",
        "maior=0\n",
        "meio=0\n",
        "menor=0\n",
        "if a>b and a>c:\n",
        "  maior=a#false\n",
        "elif b>a and b>c:\n",
        "  maior=b #true\n",
        "elif c>a and c>b:\n",
        "  maior=c#false\n",
        "if a<b and a<c:\n",
        "  menor=a#false\n",
        "elif b<a and b<c:\n",
        "  menor=b#false\n",
        "elif c<a and c<b:\n",
        "  menor=c #true\n",
        "if a!= menor and b==maior:\n",
        "  meio=a\n",
        "elif b!=menor and a==maior:\n",
        "  meio=b\n",
        "else:\n",
        "  meio=c\n",
        "\n",
        "print (a,b,c)\n",
        "print(menor, meio, maior)\n",
        "print (maior, meio, menor)"
      ],
      "metadata": {
        "id": "sboKwY5FZNvv"
      },
      "execution_count": null,
      "outputs": []
    },
    {
      "cell_type": "markdown",
      "source": [
        "Fácil 6 – *Uma loja deseja cadastrar 5 clientes e verificar se o faturamento da loja foi superior a loja B (faturamento = 54000).  Se o faturamento atingir esse valor mostre na tela uma mensagem contendo em quanto foi superado o faturamento.*"
      ],
      "metadata": {
        "id": "J9lL1rNvpCzG"
      }
    },
    {
      "cell_type": "code",
      "source": [
        "cont=1\n",
        "soma=0\n",
        "while cont<=5:\n",
        "  valor=float(input(\"Qual o valor gasto pelo {}o cliente?\".format(cont)))\n",
        "  soma=soma+valor\n",
        "  cont+=1\n",
        "if (soma>54000):\n",
        "  print(\"O faturamento foi R${} maior que o da Loja B.\".format(soma-54000))\n",
        "else:\n",
        "  print(\"O faturamento foi menor que o da Loja B.\")"
      ],
      "metadata": {
        "id": "cImSh7fnpFaH"
      },
      "execution_count": null,
      "outputs": []
    },
    {
      "cell_type": "markdown",
      "source": [
        "Intermediário 7- *Uma loja tem tem uma política de descontos de acordo com o valor da compra do cliente. Os descontos começam acima dos 500 reais. A cada 100 reais acima dos 500 reais o cliente ganha 1% de desconto cumulativo até 25%.*\n",
        "\n",
        " Por exemplo: 500 reais = 1% || 600 reais = 2% … etc…\n",
        "\n",
        " Faça um programa que exiba essa tabela de descontos no seguinte formato:  \n",
        "\n",
        " Valordacompra – porcentagem de desconto – valor final"
      ],
      "metadata": {
        "id": "yBxcNv5_rQAf"
      }
    },
    {
      "cell_type": "code",
      "source": [
        "valorCompra=500\n",
        "for desc in range (1,26,1):\n",
        "  print(\"Valor da compra= R$\",valorCompra, \"porcentagem de desconto=\", desc, \"% valor final\", (valorCompra*(1-(desc/100))))\n",
        "  valorCompra+=100"
      ],
      "metadata": {
        "id": "xRmKq2gjrivu"
      },
      "execution_count": null,
      "outputs": []
    },
    {
      "cell_type": "markdown",
      "source": [
        "Intermediário 8 – *Uma companhia de teatro deseja dar uma série de espetáculos.*\n",
        "a) A direção calcula que a 5 reais  o ingresso.\n",
        "b) Serão vendidos 120 ingressos, e que as despesas serão 200 reais.\n",
        "c) Diminuindo-se 0,50 reais o preço dos ingressos espera-se que as vendas aumentem em 26 ingressos."
      ],
      "metadata": {
        "id": "85Kgrf6OALNu"
      }
    },
    {
      "cell_type": "markdown",
      "source": [
        "QUESTÃO AULA *Escreva um algoritmo que leia dois valores numéricos e que pergunte ao usuário qual operação ele deseja realizar: adição (+),subtração (-), multiplicação (*), divisão (/)e sair. Exiba na tela o resultado da operação desejada. Repita até que a opção saída seja escolhida.*"
      ],
      "metadata": {
        "id": "CMuleljRT9uH"
      }
    },
    {
      "cell_type": "code",
      "source": [
        "print(\"CALCULADORA\")\n",
        "print(\"adição(+)\\nsubtração(-)\\nmultiplicação(*)\\ndivisão(/)\")\n",
        "op=(input(\"Qual operação deseja realizar?\\n(Se desejar sair, digite 's')\"))\n",
        "if op==\"s\":\n",
        "    print(\"Encerrando o programa...\")\n",
        "elif op==\"+\" or op==\"-\" or op==\"*\" or op==\"/\":\n",
        "  x=int(input(\"Digite o primeiro valor:\"))\n",
        "  y=int(input(\"Digite o segundo valor:\"))\n",
        "  if op==\"+\":\n",
        "    res=x+y\n",
        "    print(res)\n",
        "  elif op==\"-\":\n",
        "    res=x-y\n",
        "    print(res)\n",
        "  elif op==\"*\":\n",
        "    res=x*y\n",
        "    print (res)\n",
        "  else:\n",
        "    res=x/y\n",
        "    print(res)\n",
        "\n",
        "else:\n",
        "  print(\"Operador inválido.\")\n",
        "\n"
      ],
      "metadata": {
        "colab": {
          "base_uri": "https://localhost:8080/"
        },
        "id": "RJUaou_VUKwA",
        "outputId": "51f72ae0-5ba7-4a54-84ca-eb0ce4a7caed"
      },
      "execution_count": null,
      "outputs": [
        {
          "output_type": "stream",
          "name": "stdout",
          "text": [
            "CALCULADORA\n",
            "adição(+)\n",
            "subtração(-)\n",
            "multiplicação(*)\n",
            "divisão(/)\n",
            "Qual operação deseja realizar?\n",
            "(Se desejar sair, digite 's')s\n",
            "Encerrando o programa...\n"
          ]
        }
      ]
    }
  ]
}