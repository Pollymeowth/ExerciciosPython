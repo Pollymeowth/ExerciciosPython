{
  "nbformat": 4,
  "nbformat_minor": 0,
  "metadata": {
    "colab": {
      "provenance": [],
      "authorship_tag": "ABX9TyMXl4mqEx1B/H2xw2njRGu8",
      "include_colab_link": true
    },
    "kernelspec": {
      "name": "python3",
      "display_name": "Python 3"
    },
    "language_info": {
      "name": "python"
    }
  },
  "cells": [
    {
      "cell_type": "markdown",
      "metadata": {
        "id": "view-in-github",
        "colab_type": "text"
      },
      "source": [
        "<a href=\"https://colab.research.google.com/github/Pollymeowth/ExerciciosPython/blob/main/EXERCICIOS_MATRIZES.ipynb\" target=\"_parent\"><img src=\"https://colab.research.google.com/assets/colab-badge.svg\" alt=\"Open In Colab\"/></a>"
      ]
    },
    {
      "cell_type": "markdown",
      "source": [
        "CRIAR UMA LISTA DENTRO DE LISTA PREENCHIDA DE FORMA ALEATÓRIA"
      ],
      "metadata": {
        "id": "P7BiJ5jmWeeE"
      }
    },
    {
      "cell_type": "code",
      "execution_count": null,
      "metadata": {
        "colab": {
          "base_uri": "https://localhost:8080/"
        },
        "id": "PxTi2g4MUgpf",
        "outputId": "9ffc3588-78cc-4b23-bcff-8f8f967100c8"
      },
      "outputs": [
        {
          "output_type": "stream",
          "name": "stdout",
          "text": [
            "Informe a quantidade de linhas da matriz: 3\n",
            "Informe a quantidade de colunas da matriz: 4\n",
            "15 8 4 12  \n",
            "15 2 6 9  \n",
            "4 14 6 9  \n"
          ]
        }
      ],
      "source": [
        "import random\n",
        "\n",
        "while True:\n",
        "  lin=int(input(\"Informe a quantidade de linhas da matriz: \"))\n",
        "  col=int(input(\"Informe a quantidade de colunas da matriz: \"))\n",
        "  if lin >0 and col>0:\n",
        "    M=[]\n",
        "    for i in range(lin):#listas dentro da lista\n",
        "      linhas=[]\n",
        "      for j in range(col):#elementos das listas\n",
        "        num=random.randint(1,16) #randint funcao para randomizar numeros inteiros\n",
        "        linhas.append(num)\n",
        "      M.append(linhas)\n",
        "    break\n",
        "\n",
        "for i in range (lin):\n",
        "  for j in range (col):\n",
        "    print(M[i][j],end=\" \")\n",
        "  print(\" \")"
      ]
    },
    {
      "cell_type": "markdown",
      "source": [
        "Manipulacao de Diagonal principal e diagonal secundária em python\n",
        "- elemento da diagonal principal (DP):\n",
        " i = j\n",
        "- elemento da diagonal secundaria(DS):\n",
        "i + j = ordem da matriz + 1\n",
        "- elemento abaixo da DP:\n",
        " i > j\n",
        "- elemento acima da DP:\n",
        " i > j"
      ],
      "metadata": {
        "id": "QzLtRRvnbXpd"
      }
    },
    {
      "cell_type": "code",
      "source": [
        "import random\n",
        "\n",
        "ordem = int(input(\"Digite a ordem da matriz: \"))\n",
        "if ordem >2:\n",
        "  while True:\n",
        "    M=[]\n",
        "    for i in range(ordem):#listas dentro da lista\n",
        "      linhas=[]\n",
        "      for j in range(ordem):#elementos das listas\n",
        "        num=random.randint(1,10) #randint funcao para randomizar numeros inteiros\n",
        "        linhas.append(num)\n",
        "      M.append(linhas)\n",
        "    break\n",
        "  dp= []\n",
        "  ds= []\n",
        "  for i in range (ordem):\n",
        "    for j in range (ordem):\n",
        "      print(M[i][j],end=\" \")\n",
        "      if i == j:\n",
        "        dp.append(M[i][j])\n",
        "      elif i + j == (ordem -1):\n",
        "        ds.append(M[i][j])\n",
        "    print(\" \")\n",
        "  maiorDP=max(dp)\n",
        "  print(maiorDP)\n",
        "  menorDS=min(ds)\n",
        "  print(menorDS)\n",
        "  media= (maiorDP + menorDS) /2\n",
        "  print(\"Média: {:.2f}\". format(media))\n",
        "else:\n",
        "  print(\"Informe uma ordem válida!\")"
      ],
      "metadata": {
        "colab": {
          "base_uri": "https://localhost:8080/"
        },
        "id": "_ifpVJZHbVHd",
        "outputId": "835249e1-ae38-4264-b177-1c3c89ae79a0"
      },
      "execution_count": null,
      "outputs": [
        {
          "output_type": "stream",
          "name": "stdout",
          "text": [
            "Digite a ordem da matriz: 3\n",
            "1 5 8  \n",
            "8 4 3  \n",
            "6 7 4  \n",
            "4\n",
            "6\n",
            "Média: 5.00\n"
          ]
        }
      ]
    },
    {
      "cell_type": "code",
      "source": [
        "A = [[1, 2, 3],\n",
        "     [4, 5, 6],\n",
        "     [0, 0, 0]]\n",
        "\n",
        "for i in range(2):     # percorre a 1a e a 2a linhas da matriz\n",
        "    for j in range(3): # percorre todas as linhas da matriz\n",
        "        A[2][j] = A[2][j] + A[i][j]\n",
        "\n",
        "    print(A[2][j])"
      ],
      "metadata": {
        "colab": {
          "base_uri": "https://localhost:8080/"
        },
        "id": "rdxedK32gjUX",
        "outputId": "acd3ae26-3127-4362-bd44-9fa30189433d"
      },
      "execution_count": null,
      "outputs": [
        {
          "output_type": "stream",
          "name": "stdout",
          "text": [
            "3\n",
            "9\n"
          ]
        }
      ]
    },
    {
      "cell_type": "code",
      "source": [
        "while True:\n",
        "  dog=input(\"Qual o nome do cachorro(ou digite 's' para sair)?\")\n",
        "  if dog.lower()==\"s\":\n",
        "    break\n",
        "  person=input(\"Qual o nome do dono do cachorro?\")\n",
        "  dicDogperson = {\"Cachorro\":dog,\n",
        "                \"Dono\":person}\n",
        "  nomes.append(dicDogperson.copy())\n",
        "\n",
        "for dic in nomes:\n",
        "  print(\"{} pertence à {}.\".format(dic[\"Cachorro\"], dic[\"Dono\"]))"
      ],
      "metadata": {
        "colab": {
          "base_uri": "https://localhost:8080/"
        },
        "id": "x_ANmiL9aRHS",
        "outputId": "b5c1f761-a457-49d9-ed17-039aad8548de"
      },
      "execution_count": null,
      "outputs": [
        {
          "output_type": "stream",
          "name": "stdout",
          "text": [
            "Qual o nome do cachorro(ou digite 's' para sair)?Cacau\n",
            "Qual o nome do dono do cachorro?Polly\n",
            "Qual o nome do cachorro(ou digite 's' para sair)?Thor\n",
            "Qual o nome do dono do cachorro?Matheus\n",
            "Qual o nome do cachorro(ou digite 's' para sair)?s\n",
            "Cacau pertence à Polly.\n",
            "Thor pertence à Matheus.\n"
          ]
        }
      ]
    },
    {
      "cell_type": "code",
      "source": [
        "relacao={\"Pollyana\": \"@pollymeowth\",\n",
        "         \"Matheus\": \"@guilhermoni\",\n",
        "         \"Cacau\":\"@cacauDog\"}\n",
        "print(relacao)\n",
        "relacao.update({\"Thor\":\"@thorDogao\"})\n",
        "print(relacao)"
      ],
      "metadata": {
        "colab": {
          "base_uri": "https://localhost:8080/"
        },
        "id": "oSqotG59tIYb",
        "outputId": "560dbb3a-acf5-4d48-db86-79efec20f4ed"
      },
      "execution_count": null,
      "outputs": [
        {
          "output_type": "stream",
          "name": "stdout",
          "text": [
            "{'Pollyana': '@pollymeowth', 'Matheus': '@guilhermoni', 'Cacau': '@cacauDog'}\n",
            "{'Pollyana': '@pollymeowth', 'Matheus': '@guilhermoni', 'Cacau': '@cacauDog', 'Thor': '@thorDogao'}\n"
          ]
        }
      ]
    },
    {
      "cell_type": "code",
      "source": [],
      "metadata": {
        "id": "qpispFqItISZ"
      },
      "execution_count": null,
      "outputs": []
    }
  ]
}