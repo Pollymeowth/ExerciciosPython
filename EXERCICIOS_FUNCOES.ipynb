{
  "nbformat": 4,
  "nbformat_minor": 0,
  "metadata": {
    "colab": {
      "provenance": [],
      "authorship_tag": "ABX9TyM4g6ksIA1xKAKV4+GpXDRS",
      "include_colab_link": true
    },
    "kernelspec": {
      "name": "python3",
      "display_name": "Python 3"
    },
    "language_info": {
      "name": "python"
    }
  },
  "cells": [
    {
      "cell_type": "markdown",
      "metadata": {
        "id": "view-in-github",
        "colab_type": "text"
      },
      "source": [
        "<a href=\"https://colab.research.google.com/github/Pollymeowth/ExerciciosPython/blob/main/EXERCICIOS_FUNCOES.ipynb\" target=\"_parent\"><img src=\"https://colab.research.google.com/assets/colab-badge.svg\" alt=\"Open In Colab\"/></a>"
      ]
    },
    {
      "cell_type": "markdown",
      "source": [
        "FUNÇÕES"
      ],
      "metadata": {
        "id": "l2GoWKDPaDq4"
      }
    },
    {
      "cell_type": "code",
      "execution_count": null,
      "metadata": {
        "id": "y2F9grnXaAb0"
      },
      "outputs": [],
      "source": [
        "def realce():\n",
        "  print('|', '__'*10,'|')\n",
        "  print('|', '__'*10,'|')"
      ]
    },
    {
      "cell_type": "code",
      "source": [
        "realce()\n",
        "print(\"         POLLY\")\n",
        "realce()"
      ],
      "metadata": {
        "id": "O16WJXIpaP2p"
      },
      "execution_count": null,
      "outputs": []
    },
    {
      "cell_type": "code",
      "source": [
        "def titulo (s1):\n",
        "  print('|', '__'*10,'|')\n",
        "  print('|', 'Aquilo que te move.','|')\n",
        "  print (s1)\n",
        "  print('|', '__'*10,'|')\n",
        "  print('|', '__'*10,'|')\n",
        "titulo('          AMOR')\n",
        "print(\"\\n\")\n",
        "realce (\"         GUERRA\")"
      ],
      "metadata": {
        "id": "ppDxrQMHaTGf"
      },
      "execution_count": null,
      "outputs": []
    },
    {
      "cell_type": "markdown",
      "source": [
        "FUNÇÃO COM DOIS PARÂMETROS:"
      ],
      "metadata": {
        "id": "2dR52iYqa7gN"
      }
    },
    {
      "cell_type": "code",
      "source": [
        "def sub2(x,y):\n",
        "  resp=x-y\n",
        "  print(resp)\n",
        "sub2(4,2)\n",
        "sub2(8,5)\n",
        "sub2(y=8,x=5)"
      ],
      "metadata": {
        "id": "Hi4cFTeNaqD5"
      },
      "execution_count": null,
      "outputs": []
    },
    {
      "cell_type": "markdown",
      "source": [
        "PARAMETROS OPCIONAIS"
      ],
      "metadata": {
        "id": "L8sxjzEzlf64"
      }
    },
    {
      "cell_type": "code",
      "source": [
        "def soma3(x,y,z):\n",
        "  resp=x+y+z\n",
        "  print(resp)\n"
      ],
      "metadata": {
        "id": "oiApmsrelijP"
      },
      "execution_count": null,
      "outputs": []
    },
    {
      "cell_type": "code",
      "source": [
        "def soma3(x=0,y=0,z=0):\n",
        "  resp=x+y+z\n",
        "  print(resp)\n",
        "soma3(1,2,3)\n",
        "soma3(2,5)\n",
        "soma3(9)\n",
        "soma3()"
      ],
      "metadata": {
        "id": "BlbcjXMLl8Rf"
      },
      "execution_count": null,
      "outputs": []
    },
    {
      "cell_type": "code",
      "source": [
        "def soma3(x=0, y=0,z=0,imprime=False):#aqui apenas armazena a funçao mas não imprime\n",
        "  resp=x+y+z\n",
        "  if imprime:\n",
        "    print(resp)\n",
        "soma3(1,2,3,True) #quanto coloca o True, força a funçao a imprimir\n"
      ],
      "metadata": {
        "colab": {
          "base_uri": "https://localhost:8080/"
        },
        "id": "qOkvuOorv7Bn",
        "outputId": "fb186a96-b289-491d-fbd8-d290e041cdd6"
      },
      "execution_count": null,
      "outputs": [
        {
          "output_type": "stream",
          "name": "stdout",
          "text": [
            "6\n"
          ]
        }
      ]
    },
    {
      "cell_type": "code",
      "source": [
        "EXERCICIO 1"
      ],
      "metadata": {
        "id": "YIsH-hcpneCN"
      },
      "execution_count": null,
      "outputs": []
    },
    {
      "cell_type": "code",
      "source": [
        "def borda(s1):\n",
        "  length=len(s1) #cumprimento da string\n",
        "  # só imprime se houver algum caracter\n",
        "  if length:#truthy e falsey (se for valor inteiro, numerico e != de zero retorna truthy, e faz o comando)\n",
        "    print('+','-'*length,'+')\n",
        "    print('|',s1,'|')\n",
        "    print('+','-'*length,'+')\n",
        "borda('Olá mundo!')\n",
        "borda('Lógica de Programação e Algoritmo')\n",
        "borda('Pollyana Roberta de Sousa')"
      ],
      "metadata": {
        "colab": {
          "base_uri": "https://localhost:8080/"
        },
        "id": "4PT_z31gng08",
        "outputId": "1643ae27-e451-4158-820e-08f2f701337b"
      },
      "execution_count": null,
      "outputs": [
        {
          "output_type": "stream",
          "name": "stdout",
          "text": [
            "+ ---------- +\n",
            "| Olá mundo! |\n",
            "+ ---------- +\n",
            "+ --------------------------------- +\n",
            "| Lógica de Programação e Algoritmo |\n",
            "+ --------------------------------- +\n",
            "+ ------------------------- +\n",
            "| Pollyana Roberta de Sousa |\n",
            "+ ------------------------- +\n"
          ]
        }
      ]
    },
    {
      "cell_type": "code",
      "source": [
        "def borda(s1):\n",
        "  tam=len(s1)\n",
        "  if tam:\n",
        "    print('#','-'*tam,'#')\n",
        "    print('|',s1,'|')\n",
        "    print('#','-'*tam,'#')\n",
        "borda ('Matheus Matias Guilhermoni')"
      ],
      "metadata": {
        "id": "CiOBOnTZ4-3f"
      },
      "execution_count": null,
      "outputs": []
    },
    {
      "cell_type": "markdown",
      "source": [
        "EXERCICIO 2"
      ],
      "metadata": {
        "id": "Su98hq7GpsHC"
      }
    },
    {
      "cell_type": "code",
      "source": [
        "def cont(inicio,fim,passo):\n",
        "#quando escrevo assim é como se eu fizesse o passo abaixo para identificar variaveis sem precisar fazer input longo:\n",
        "# inicio=int(input(\"incio:\"))\n",
        "# fim=int(input(\"fim:\"))\n",
        "# passo=int(input(\"passo:\"))\n",
        "  for i in range (inicio,fim,passo):\n",
        "    print('{} '.format(i),end='') #o end serve pra printar sequencia sem quebrar linha\n",
        "  print('\\n')\n",
        "cont (0,21,2)\n",
        "cont (1,11,1)"
      ],
      "metadata": {
        "colab": {
          "base_uri": "https://localhost:8080/"
        },
        "id": "4LsU0SzxpriM",
        "outputId": "284c1037-8273-4666-deb8-4dd73a633281"
      },
      "execution_count": null,
      "outputs": [
        {
          "output_type": "stream",
          "name": "stdout",
          "text": [
            "0 2 4 6 8 10 12 14 16 18 20 \n",
            "\n",
            "1 2 3 4 5 6 7 8 9 10 \n",
            "\n"
          ]
        }
      ]
    },
    {
      "cell_type": "markdown",
      "source": [
        "EXERCICIO 3"
      ],
      "metadata": {
        "id": "3FGOP0T8sGjZ"
      }
    },
    {
      "cell_type": "code",
      "source": [
        "def maior3 (x=0,y=0,z=0):\n",
        "  if x and y and z:#truthy(se for valor inteiro, numerico e != de zero retorna truthy, e faz o comando)\n",
        "    if x>y and x>z:\n",
        "      if y>z:\n",
        "        print(\"Ordem crescente {},{},{}.\".format(z,y,x,end=\"\"))\n",
        "      else:\n",
        "        print(\"Ordem crescente {},{},{}.\".format(y,z,x,end=\"\"))\n",
        "    elif y>x and y>z:\n",
        "      if x>z:\n",
        "        print(\"Ordem crescente {},{},{}.\".format(z,x,y,end=\"\"))\n",
        "      else:\n",
        "        print(\"Ordem crescente {},{},{}.\".format(x,z,y,end=\"\"))\n",
        "    elif z>x and z>y:\n",
        "      if x>y:\n",
        "        print(\"Ordem crescente {},{},{}.\".format(y,x,z,end=\"\"))\n",
        "      else:\n",
        "        print(\"Ordem crescente {},{},{}.\".format(x,y,z,end=\"\"))\n",
        "#PROGRAMA PRINCIPAL\n",
        "maior3(10,12,15)\n",
        "maior3(102,104,106)\n",
        "maior3(12,10,8)\n",
        "maior3(4,9,5)\n",
        "maior3(5,9,3)"
      ],
      "metadata": {
        "colab": {
          "base_uri": "https://localhost:8080/"
        },
        "id": "2EllqvgrsIzD",
        "outputId": "6423b5f3-4dd7-4789-dc84-cb320d35b9f1"
      },
      "execution_count": null,
      "outputs": [
        {
          "output_type": "stream",
          "name": "stdout",
          "text": [
            "Ordem crescente 10,12,15.\n",
            "Ordem crescente 102,104,106.\n",
            "Ordem crescente 8,10,12.\n",
            "Ordem crescente 4,5,9.\n",
            "Ordem crescente 3,5,9.\n"
          ]
        }
      ]
    },
    {
      "cell_type": "markdown",
      "source": [
        "ESCOPO DE VARIÁVEIS\n",
        "\n",
        "\n",
        "\n",
        "\n",
        "\n"
      ],
      "metadata": {
        "id": "AvQFCB6ro773"
      }
    },
    {
      "cell_type": "code",
      "source": [
        "def comida():\n",
        "  ovos=24\n",
        "  print(ovos)\n",
        "comida()"
      ],
      "metadata": {
        "id": "O-F3PZJcpGre"
      },
      "execution_count": null,
      "outputs": []
    },
    {
      "cell_type": "code",
      "source": [
        "def comida():\n",
        "  ovos=12\n",
        "  bacon()#sai da função 'comida' e vai pra função 'bacon'\n",
        "  print(ovos)#apos ler 'bacon'faz o print 'ovos'referente ao valor atribuido a essa variável local\n",
        "def bacon():\n",
        "  ovos=6 #aqui o valor é da variável local bacon, ele lê, e volta pra variável 'comida'\n",
        "comida() #o print é feito de acordo com a variável local"
      ],
      "metadata": {
        "colab": {
          "base_uri": "https://localhost:8080/"
        },
        "id": "YfoXPzQ2pOpi",
        "outputId": "06dcce18-24c4-4abf-9c2b-1f29151ccfa2"
      },
      "execution_count": null,
      "outputs": [
        {
          "output_type": "stream",
          "name": "stdout",
          "text": [
            "12\n"
          ]
        }
      ]
    },
    {
      "cell_type": "code",
      "source": [
        "def comida():#4.lê funcao comida\n",
        "  ovos=\"variavel local comida\"#5.lê o valor atribuido a variavel local ovos\n",
        "  print(ovos)#6.printa variavel local ovos\n",
        "def bacon():#2.lê funcao bacon\n",
        "  ovos=\"variavel local bacon\"\n",
        "  comida()#3.chama variavel comida\n",
        "  print(ovos)#7.continua a funcao bacon e printa valor atribuido a variavel local ovos\n",
        "ovos=\"variavel global\"\n",
        "bacon()#1.chama funcao bacon\n",
        "print(ovos)#8.printa a variavel global ovos"
      ],
      "metadata": {
        "colab": {
          "base_uri": "https://localhost:8080/"
        },
        "id": "2KoBV9r-r7Ja",
        "outputId": "f803420d-cbb2-4ce0-edf1-7710e2cf1c31"
      },
      "execution_count": null,
      "outputs": [
        {
          "output_type": "stream",
          "name": "stdout",
          "text": [
            "variavel local comida\n",
            "variavel local bacon\n",
            "variavel global\n"
          ]
        }
      ]
    },
    {
      "cell_type": "markdown",
      "source": [
        "ALTERAR VALOR DA VARIAVEL GLOBAL DENTRO DA FUNCAO"
      ],
      "metadata": {
        "id": "81KaCZgEFoPo"
      }
    },
    {
      "cell_type": "code",
      "source": [
        "def comida():\n",
        "  global ovos#alterei o 'valor'da variavel global\n",
        "  ovos=\"comida\"\n",
        "ovos=\"global\"\n",
        "comida()\n",
        "print(ovos)"
      ],
      "metadata": {
        "colab": {
          "base_uri": "https://localhost:8080/"
        },
        "id": "LV-9gMJlsTcz",
        "outputId": "9d195a98-1014-4397-d03a-d9ed6506a984"
      },
      "execution_count": null,
      "outputs": [
        {
          "output_type": "stream",
          "name": "stdout",
          "text": [
            "comida\n"
          ]
        }
      ]
    },
    {
      "cell_type": "code",
      "source": [
        "def comida():\n",
        "  global ovos\n",
        "  ovos=12\n",
        "ovos=6\n",
        "comida()\n",
        "print(ovos)"
      ],
      "metadata": {
        "colab": {
          "base_uri": "https://localhost:8080/"
        },
        "id": "GRuzsDGuuNkn",
        "outputId": "4f9523da-67fc-4740-a376-1ec6c255ce41"
      },
      "execution_count": null,
      "outputs": [
        {
          "output_type": "stream",
          "name": "stdout",
          "text": [
            "12\n"
          ]
        }
      ]
    },
    {
      "cell_type": "code",
      "source": [
        "def comida():#3.le funcao comida\n",
        "  global ovos #4.atribui o valor local a variavel global ovos\n",
        "  ovos=\"comida\"#5.variavel global fica com valor comida\n",
        "  bacon()#6.chama variavel bacon\n",
        "def bacon():#7.le funcao bacon\n",
        "  ovos=\"bacon\"#8.atribuido valor local ovos\n",
        "  pimenta()#9.chama funcao pimenta\n",
        "def pimenta():#10.le funcao pimenta\n",
        "  print(ovos)#11.le variavel global ovos(comida) e faz o primeiro print\n",
        "\n",
        "ovos=12#1.valor atribuido a variavel global ovos\n",
        "comida() #2.chama funcao comida\n",
        "print(ovos)#12.sai das funcoes e printa valor variavel global ovos(comida)"
      ],
      "metadata": {
        "colab": {
          "base_uri": "https://localhost:8080/"
        },
        "id": "yjhJ7z43ypwH",
        "outputId": "632a3b77-d37e-4418-c609-91174f2bbf47"
      },
      "execution_count": null,
      "outputs": [
        {
          "output_type": "stream",
          "name": "stdout",
          "text": [
            "comida\n",
            "comida\n"
          ]
        }
      ]
    },
    {
      "cell_type": "markdown",
      "source": [
        "RETORNO DE VALORES EM FUNÇÕES"
      ],
      "metadata": {
        "id": "MZJWpULSExkF"
      }
    },
    {
      "cell_type": "code",
      "source": [
        "def soma3(x=0,y=0,z=0):\n",
        "  res=x+y+z\n",
        "  return(res)\n",
        "\n",
        "retornado=soma3 (1,2,3)\n",
        "print(retornado)\n",
        "print(soma3(9,2,3)) #forma simplificada para escrever as duas linhas de código anteriores\n",
        "\n",
        "print(\"=\"*20)\n",
        "r1=soma3(1,2,3)\n",
        "r2=soma3(1,1,1)\n",
        "r3=soma3 (1,4)\n",
        "print(\"Somatórios {}, {} e {}.\".format(r1,r2,r3))\n",
        "if r1 and r2 and r3:\n",
        "  if r1>r2 and r1>r3:\n",
        "    if r2>r3:\n",
        "      print(\"Ordem crescente:\",r3,r2,r1)\n",
        "    else:\n",
        "      print(\"Ordem crescente:\",r2,r3,r1)\n",
        "  elif r2>r1 and r2>r3:\n",
        "    if r1>r3:\n",
        "        print(\"Ordem crescente:\",r3,r1,r2)\n",
        "    else:\n",
        "      print(\"Ordem crescente:\",r1,r3,r2)\n",
        "  elif r3>r1 and r3>r2:\n",
        "    if r1>r2:\n",
        "      print(\"Ordem crescente:\",r2,r1,r3)\n",
        "    else:\n",
        "      print(\"Ordem crescente:\",r1,r2,r3)\n",
        "\n"
      ],
      "metadata": {
        "colab": {
          "base_uri": "https://localhost:8080/"
        },
        "id": "_XNCVLc7E2sE",
        "outputId": "a8c9bd31-5231-4f31-8bff-6b1c19867120"
      },
      "execution_count": null,
      "outputs": [
        {
          "output_type": "stream",
          "name": "stdout",
          "text": [
            "6\n",
            "14\n",
            "====================\n",
            "Somatórios 6, 3 e 5.\n",
            "Ordem crescente: 3 5 6\n",
            "15\n"
          ]
        }
      ]
    },
    {
      "cell_type": "code",
      "source": [
        "def validaString(perg,min,max):\n",
        "  s1=input(perg)\n",
        "  tam=len(s1)\n",
        "  print(tam)\n",
        "  while ((tam <min) or (tam>max)):\n",
        "    s1=input(perg)\n",
        "    tam=len(s1)\n",
        "    print(tam)\n",
        "  return (s1)\n",
        "x = validaString(\"Escreva uma string:\",10,30)\n",
        "# print(validaString(\"Escreva uma string:\",10,30))#alternative way\n",
        "print(\"Você digitou a string: '{}' . \\nOpção válida. Encerrando programa...\".format(x))\n"
      ],
      "metadata": {
        "colab": {
          "base_uri": "https://localhost:8080/"
        },
        "id": "jAZD5dpvK0Xc",
        "outputId": "8c9a4c05-b17a-4411-c437-b0a8e2442862"
      },
      "execution_count": null,
      "outputs": [
        {
          "output_type": "stream",
          "name": "stdout",
          "text": [
            "Escreva uma string:retorno\n",
            "7\n",
            "Escreva uma string:Algoritmo\n",
            "9\n",
            "Escreva uma string:Algoritmos\n",
            "10\n",
            "Você digitou a string: 'Algoritmos' . \n",
            "Opção válida. Encerrando programa...\n"
          ]
        }
      ]
    },
    {
      "cell_type": "markdown",
      "source": [
        "ERROS E EXCECÕES|erros já conhecidos"
      ],
      "metadata": {
        "id": "mvRlGUmlUlf4"
      }
    },
    {
      "cell_type": "code",
      "source": [
        "while True:\n",
        "  try:\n",
        "    x=int(input(\"Digite um valor:\"))\n",
        "    break\n",
        "  except ValueError:\n",
        "    print(\"Ops!Valor inválido. Digite um novo valor.\")\n",
        "print(\"É um valor válido!\")\n"
      ],
      "metadata": {
        "colab": {
          "base_uri": "https://localhost:8080/"
        },
        "id": "xumYx_YUUo1o",
        "outputId": "77c8f3b4-54b9-461f-a896-3d5ba0197653"
      },
      "execution_count": null,
      "outputs": [
        {
          "output_type": "stream",
          "name": "stdout",
          "text": [
            "Digite um valor:e\n",
            "Ops!Valor inválido. Digite um novo valor.\n",
            "Digite um valor:10\n",
            "É um valor válido!\n"
          ]
        }
      ]
    },
    {
      "cell_type": "code",
      "source": [
        "def div():\n",
        "  try:\n",
        "    x=int(input(\"Digite o primeiro numero:\"))\n",
        "    y=int(input(\"Digite o segundo numero:\"))\n",
        "    res=x/y\n",
        "\n",
        "  except ZeroDivisionError:#erro de divisao por zero\n",
        "    print(\"Ops! Não existe divisão por 0.\")\n",
        "  except:#qualquer outro erro que aparecer, printa isso\n",
        "    print(\"Algo de errado aconteceu...\")\n",
        "  else:#se o try for True, executa a partir daqui\n",
        "    return res\n",
        "  finally:#esse comando executa de qualquer maneira\n",
        "    print(\"Executará sempre!\")\n",
        "print(div())"
      ],
      "metadata": {
        "colab": {
          "base_uri": "https://localhost:8080/"
        },
        "id": "GphCagzpVgF6",
        "outputId": "f0d0d90a-10fd-442d-fc3f-bd61a1d0b9c0"
      },
      "execution_count": null,
      "outputs": [
        {
          "output_type": "stream",
          "name": "stdout",
          "text": [
            "Digite o primeiro numero:10\n",
            "Digite o segundo numero:0\n",
            "Ops! Não existe divisão por 0.\n",
            "Executará sempre!\n",
            "None\n"
          ]
        }
      ]
    },
    {
      "cell_type": "code",
      "source": [
        "def par(x):\n",
        "  return x%2==0\n",
        "def impar(x):#nega o retorno par\n",
        "  return not par(x)\n",
        "\n",
        "def imprimeCond(num,fcond):\n",
        "  if fcond(num):#fcond é a condicao par ou impar que eu defini do numero que eu escolhi\n",
        "    print(num)\n",
        "\n",
        "print(imprimeCond(5,impar))"
      ],
      "metadata": {
        "id": "efrmLNWdZL3A"
      },
      "execution_count": null,
      "outputs": []
    },
    {
      "cell_type": "code",
      "source": [
        "def media4():\n",
        "  cont=1\n",
        "  soma=0\n",
        "  while cont<5:\n",
        "    perg=float(input(\"Digite o {}º valor: \". format(cont)))\n",
        "    soma=soma+perg\n",
        "    cont+=1\n",
        "  med=soma/4\n",
        "  print(med)\n",
        "media4()\n"
      ],
      "metadata": {
        "id": "GDACwFtz1uOp"
      },
      "execution_count": null,
      "outputs": []
    },
    {
      "cell_type": "markdown",
      "source": [
        "FUNÇÃO LAMBDA"
      ],
      "metadata": {
        "id": "9NyhGtdvbZoP"
      }
    },
    {
      "cell_type": "code",
      "source": [
        "res= lambda x,y: x*y\n",
        "print (res(2,3))\n"
      ],
      "metadata": {
        "colab": {
          "base_uri": "https://localhost:8080/"
        },
        "id": "Oqic4-nAbWHX",
        "outputId": "72d2a80b-ab5e-491e-9783-781e92dec71e"
      },
      "execution_count": null,
      "outputs": [
        {
          "output_type": "stream",
          "name": "stdout",
          "text": [
            "6\n"
          ]
        }
      ]
    },
    {
      "cell_type": "code",
      "source": [
        "res= lambda x: x*x"
      ],
      "metadata": {
        "id": "GSv1YOByb3QY"
      },
      "execution_count": null,
      "outputs": []
    },
    {
      "cell_type": "markdown",
      "source": [
        "DOCSTRING"
      ],
      "metadata": {
        "id": "nw8Jxaz4yxs5"
      }
    },
    {
      "cell_type": "code",
      "source": [
        "def sum (x=0,y=0,z=0):\n",
        "  \"\"\"\n",
        "  Retorna somatório de até 3 numeros quaisquer. Todos os parametros são opcionais.\n",
        "  x=valor numerico (opcional)\n",
        "  y=valor numerico (opcional)\n",
        "  z=valor numerico (opcional)\n",
        "  \"\"\"\n",
        "  return x+y+z\n",
        "\n",
        "print(sum(2,3,5))\n",
        "help(sum) #para explicar a funcao."
      ],
      "metadata": {
        "id": "NMTPbFRWywoA"
      },
      "execution_count": null,
      "outputs": []
    },
    {
      "cell_type": "markdown",
      "source": [
        "EXERCICIO 1"
      ],
      "metadata": {
        "id": "CNKdiLB65_vV"
      }
    },
    {
      "cell_type": "code",
      "source": [
        "def validInt(perg,min,max):\n",
        "  x =int(input(perg))\n",
        "  while (x<min) or (x>max):\n",
        "    x =int(input(perg))\n",
        "  return x\n",
        "def fatorial(num):\n",
        "  \"\"\"\n",
        "  num: variavel de controle que vai ser dado o input\n",
        "  return= retorna o valor do num fatorial.\n",
        "\n",
        "  O menor valor de um fat=1 (0!), logo se fat==0 ele retorna \"1\", mas se for outro numero ele faz o calculo.\n",
        "  Nós sabemos o intervalo (num), entao podemos usar 'for' e o 'num+1'é justamente que ele faz 'num-1' nessa função, mas queremos ir até ele.\n",
        "  O fat é igual a ele mesmo * iterador(variavel que começa em 1 e vai até o valor de num). Ele faz o calculo e retorna o fat.\n",
        "  O x no programa principal se refere ao 'num' que será substituido na funcao 'fatorial' e para printar o resultado ele faz o print de 'x'! e faz o fatorial\n",
        "  de x(que recebe o valor do imput).\n",
        "  \"\"\"\n",
        "\n",
        "  fat=1#é o valor minimo da fatorial\n",
        "  if fat==0:\n",
        "    return fat\n",
        "  for i in range (1,num+1):\n",
        "    fat*=i #i é uma variavel que fica entre esse intervalo\n",
        "  return fat\n",
        "\n",
        "x = validInt(\"Digite um numero para calcular a fatorial: \",0,99999) #definir qual vai ser o numero\n",
        "print(\"{}!={}.\".format(x,fatorial(x)))"
      ],
      "metadata": {
        "id": "48AnixBM5_Nd"
      },
      "execution_count": null,
      "outputs": []
    },
    {
      "cell_type": "markdown",
      "source": [
        "EXERCICIO 2 - *criar,validar, cadastrar, listar*\n"
      ],
      "metadata": {
        "id": "eyZwIf59DTmq"
      }
    },
    {
      "cell_type": "markdown",
      "source": [
        "O código fornecido parece ser um programa simples para cadastrar e listar jogos em um arquivo de texto. Vou fornecer uma breve explicação das funções presentes no código:\n",
        "\n",
        "1- A função validInt é usada para verificar se um número inteiro fornecido pelo usuário está dentro de um intervalo específico.\n",
        "2- A função criaArquivo é usada para criar um novo arquivo de texto com o nome fornecido.\n",
        "3- A função existeArquivo verifica se um arquivo de texto com o nome fornecido existe.\n",
        "4- A função listarArquivo é usada para exibir o conteúdo de um arquivo de texto.\n",
        "5- A função cadastrarJogo é usada para adicionar um novo jogo e o nome do videogame correspondente ao arquivo de texto.\n",
        "\n",
        "O programa principal segue a seguinte lógica:\n",
        "\n",
        "Verifica se o arquivo \"games.txt\" existe usando a função existeArquivo. Se existir, exibe uma mensagem informando que o arquivo foi localizado. Caso contrário, exibe uma mensagem informando que o arquivo é inexistente e chama a função criaArquivo para criar o arquivo.\n",
        "Inicia um loop infinito para exibir um menu de opções.\n",
        "Solicita ao usuário que escolha uma opção usando a função validInt, que valida se a entrada é um número inteiro entre 1 e 3.\n",
        "Se a opção escolhida for 1, solicita o nome do jogo e o nome do videogame ao usuário e chama a função cadastrarJogo para adicionar as informações ao arquivo.\n",
        "Se a opção escolhida for 2, chama a função listarArquivo para exibir o conteúdo do arquivo \"games.txt\".\n",
        "Se a opção escolhida for 3, exibe uma mensagem informando que o programa está sendo encerrado e interrompe o loop infinito.\n",
        "Em resumo, esse código permite que o usuário cadastre jogos e seus respectivos videogames em um arquivo de texto, bem como liste os jogos cadastrados."
      ],
      "metadata": {
        "id": "wiiZZBSaets8"
      }
    },
    {
      "cell_type": "code",
      "source": [
        "# CODIGO\n",
        "def validInt(perg,min,max):  # 10. define se o numero inputado no menu é inteiro e está no intervalo do menu\n",
        "  x =int(input(perg))\n",
        "  while (x<min) or (x>max):#11.enquanto for um valor falso, o loop continua, se for verdadeiro retorna o valor int do input em x.\n",
        "    x =int(input(perg))\n",
        "  return x\n",
        "\n",
        "def criaArquivo(nomeArquivo):#3. nomeArquivo é subs por games.txt\n",
        "  try:#4.ele tenta abrir o arquivo games.txt\n",
        "    a= open(nomeArquivo,\"wt+\")#se conseguir abre o arquivo de escrita em texto e o '+' serve pra caso nao exista, ser\n",
        "    #criado o arquivo, e depois fecha\n",
        "    a.close()\n",
        "  except:#5.se der qualquer erro,printa esse texto e fecha o arquivo por causa do finally\n",
        "    print(\"Erro na criação do arquivo.\")\n",
        "  else:#6.se nao der erro, o arquivo é criado e depois fechado por causo do finally\n",
        "    print(\"Arquivo {} foi criado com sucesso!\\n\".format(nomeArquivo))\n",
        "  finally:\n",
        "    a.close()\n",
        "\n",
        "def existeArquivo (nomeArquivo):\n",
        "  try:\n",
        "    a = open(nomeArquivo,\"rt\")\n",
        "    a.close()\n",
        "  except FileNotFoundError:\n",
        "    return False\n",
        "  else:#se der certo\n",
        "    return True\n",
        "\n",
        "def listarArquivo(nomeArquivo):#18.listar arquivos dentro do arquivo games.txt\n",
        "  try:#19.tenta abrir um arquivo de leitura de texto\n",
        "    a= open(nomeArquivo, 'rt')\n",
        "  except:#19.1 se nao conseguir abrir printa a string\n",
        "    print(\"Erro ao ler o arquivo.\")\n",
        "  else:#19.2 se conseguir abrir vai printar a leitura de todos os arquivos dentro de games.txt\n",
        "    print(a.read())#printa todos os dados do arquivo/mostra na tela\n",
        "  finally:#20. independente do resultado fecha o arquivo\n",
        "    a.close()\n",
        "\n",
        "def cadastrarJogo(nomeArquivo,nomeJogo,nomeVideogame):#14.substitui os parametros da funcao pelos informados no item 13\n",
        "  try:\n",
        "    a=open(nomeArquivo, \"at\") #15.tenta abrir um arquivo que escreve no texto preservando o conteudo\n",
        "  except:#16.caso dê erro printa a string\n",
        "    print(\"Erro ao abrir o arquivo.\")\n",
        "  else:#16.1caso não dê erro o a.write escreve no arquivo, funcionando como se fosse um print\n",
        "    a.write('{}; {}.\\n'.format(nomeJogo,nomeVideogame)) #como se fosse um print\n",
        "  finally:#17independente do resultado fecha o arquivo\n",
        "    a.close()\n",
        "\n",
        "# PROGRAMA PRINCIPAL\n",
        "\n",
        "arquivo='games.txt' #1. o arquivo que quero acessar\n",
        "if existeArquivo(arquivo):#2.se existir o arquivo ele roda e imprime abaixo\n",
        "  print(\"Arquivo localizado no computador.\")\n",
        "else:#2.1 se nao existir ele printa que nao existe e chama a funcao de criaArquivo\n",
        "  print(\"Arquivo inexistente!\")\n",
        "  criaArquivo(arquivo)#7.arquivo é criado\n",
        "while True:#8.loop infinito, imprime as strings abaixo\n",
        "  print(\"MENU\")\n",
        "  print(\"1 - Cadastrar novo jogo. \")\n",
        "  print(\"2 - Lista de jogos cadastrados.\")\n",
        "  print(\"3 - Sair.\")\n",
        "\n",
        "  op= validInt(\"Escolha a opção desejada: \", 1, 3) #9. 'op' chama a funcao validInt que recebe os valores especifidados ()\n",
        "  if op==1:#12.se a opcao desejada for 1 ele faz input de nomeJogo e nomeVideogame  cadastra na funcao cadastrarJogo\n",
        "    print(\"Opção de cadastrar novo jogo selecionada.\")\n",
        "    nomeJogo=(input(\"Nome do Jogo:\"))\n",
        "    nomeVideogame = (input(\"Nome do videogame:\"))#13.cadastra nomeJogo e nomeVideogame na funcao cadastrarJogo no arquivo 'game.txt\n",
        "    cadastrarJogo(arquivo,nomeJogo,nomeVideogame)\n",
        "  elif op==2:#17.se a opcao escolhida for essa precisa criar uma funcao listarArquivo em que arquivo tem valor 'games.txt'\n",
        "    print(\"Opção de listar jogos selecionada.\")\n",
        "    listarArquivo(arquivo)#17.1 chama a funcao\n",
        "  elif op==3:#21 se digitar essa opcao printa a string e encerra o loop.\n",
        "    print(\"Encerrando programa...\")\n",
        "    break\n"
      ],
      "metadata": {
        "id": "tBRrKXKhd1Yk"
      },
      "execution_count": null,
      "outputs": []
    },
    {
      "cell_type": "code",
      "source": [
        "def soma2(a=0,b=0):\n",
        "  res=a+b\n",
        "  print(res)\n",
        "soma2(1,2)\n",
        "soma2(3,5)"
      ],
      "metadata": {
        "id": "ROeFm4CKetTc",
        "colab": {
          "base_uri": "https://localhost:8080/"
        },
        "outputId": "a1739e9f-0e30-447f-f0ef-7d734a38ee79"
      },
      "execution_count": null,
      "outputs": [
        {
          "output_type": "stream",
          "name": "stdout",
          "text": [
            "3\n",
            "8\n"
          ]
        }
      ]
    },
    {
      "cell_type": "code",
      "source": [
        "def soma(q=0,w=0,e=0):\n",
        "  res=q+w+e\n",
        "  return res\n",
        "\n",
        "retorna1=(soma(1,2))\n",
        "retorna2=(soma(2,8))\n",
        "retorna3=(soma(9,2))\n",
        "print(\"Somatorios {},{} e {}. Soma de todos os valores = {}\".format(retorna1,retorna2,retorna3,retorna1+retorna2+retorna3))"
      ],
      "metadata": {
        "colab": {
          "base_uri": "https://localhost:8080/"
        },
        "id": "OYX62xaaNjAK",
        "outputId": "9eec72d7-e42f-44ed-e1df-2b359087d8e5"
      },
      "execution_count": null,
      "outputs": [
        {
          "output_type": "stream",
          "name": "stdout",
          "text": [
            "Somatorios 3,10 e 11. Soma de todos os valores = 24\n"
          ]
        }
      ]
    },
    {
      "cell_type": "code",
      "source": [
        "#par ou impar\n",
        "def parImpar(x):\n",
        "  if x%2==0:\n",
        "    return 'O numero é par!'\n",
        "  elif x=='s':\n",
        "    return 'O programa está sendo encerrado!'\n",
        "  else:\n",
        "    return 'o numero é impar!'\n",
        "while True:\n",
        "  print(parImpar(input(\"Digite um valor (ou 's' para sair): \")))\n",
        "  x='s'\n",
        "  if x ==\"s\":\n",
        "    print(\"Saindo...\")\n",
        "    break\n",
        "  else:\n",
        "    print(parImpar(input(\"Digite um valor: \")))\n"
      ],
      "metadata": {
        "colab": {
          "base_uri": "https://localhost:8080/",
          "height": 374
        },
        "id": "vLOnBmgeQZWA",
        "outputId": "84e83206-1e79-4776-a4ba-267982b96514"
      },
      "execution_count": null,
      "outputs": [
        {
          "name": "stdout",
          "output_type": "stream",
          "text": [
            "Digite um valor (ou 's' para sair): s\n"
          ]
        },
        {
          "output_type": "error",
          "ename": "TypeError",
          "evalue": "ignored",
          "traceback": [
            "\u001b[0;31m---------------------------------------------------------------------------\u001b[0m",
            "\u001b[0;31mTypeError\u001b[0m                                 Traceback (most recent call last)",
            "\u001b[0;32m<ipython-input-67-8b317300b633>\u001b[0m in \u001b[0;36m<cell line: 7>\u001b[0;34m()\u001b[0m\n\u001b[1;32m      6\u001b[0m     \u001b[0;32mreturn\u001b[0m \u001b[0;34m'o numero é impar!'\u001b[0m\u001b[0;34m\u001b[0m\u001b[0;34m\u001b[0m\u001b[0m\n\u001b[1;32m      7\u001b[0m \u001b[0;32mwhile\u001b[0m \u001b[0;32mTrue\u001b[0m\u001b[0;34m:\u001b[0m\u001b[0;34m\u001b[0m\u001b[0;34m\u001b[0m\u001b[0m\n\u001b[0;32m----> 8\u001b[0;31m   \u001b[0mprint\u001b[0m\u001b[0;34m(\u001b[0m\u001b[0mparImpar\u001b[0m\u001b[0;34m(\u001b[0m\u001b[0minput\u001b[0m\u001b[0;34m(\u001b[0m\u001b[0;34m\"Digite um valor (ou 's' para sair): \"\u001b[0m\u001b[0;34m)\u001b[0m\u001b[0;34m)\u001b[0m\u001b[0;34m)\u001b[0m\u001b[0;34m\u001b[0m\u001b[0;34m\u001b[0m\u001b[0m\n\u001b[0m\u001b[1;32m      9\u001b[0m   \u001b[0mx\u001b[0m\u001b[0;34m=\u001b[0m\u001b[0;34m's'\u001b[0m\u001b[0;34m\u001b[0m\u001b[0;34m\u001b[0m\u001b[0m\n\u001b[1;32m     10\u001b[0m   \u001b[0;32mif\u001b[0m \u001b[0mx\u001b[0m \u001b[0;34m==\u001b[0m\u001b[0;34m\"s\"\u001b[0m\u001b[0;34m:\u001b[0m\u001b[0;34m\u001b[0m\u001b[0;34m\u001b[0m\u001b[0m\n",
            "\u001b[0;32m<ipython-input-67-8b317300b633>\u001b[0m in \u001b[0;36mparImpar\u001b[0;34m(x)\u001b[0m\n\u001b[1;32m      1\u001b[0m \u001b[0;31m#par ou impar\u001b[0m\u001b[0;34m\u001b[0m\u001b[0;34m\u001b[0m\u001b[0m\n\u001b[1;32m      2\u001b[0m \u001b[0;32mdef\u001b[0m \u001b[0mparImpar\u001b[0m\u001b[0;34m(\u001b[0m\u001b[0mx\u001b[0m\u001b[0;34m)\u001b[0m\u001b[0;34m:\u001b[0m\u001b[0;34m\u001b[0m\u001b[0;34m\u001b[0m\u001b[0m\n\u001b[0;32m----> 3\u001b[0;31m   \u001b[0;32mif\u001b[0m \u001b[0mx\u001b[0m\u001b[0;34m%\u001b[0m\u001b[0;36m2\u001b[0m\u001b[0;34m==\u001b[0m\u001b[0;36m0\u001b[0m\u001b[0;34m:\u001b[0m\u001b[0;34m\u001b[0m\u001b[0;34m\u001b[0m\u001b[0m\n\u001b[0m\u001b[1;32m      4\u001b[0m     \u001b[0;32mreturn\u001b[0m \u001b[0;34m'O numero é par!'\u001b[0m\u001b[0;34m\u001b[0m\u001b[0;34m\u001b[0m\u001b[0m\n\u001b[1;32m      5\u001b[0m   \u001b[0;32melse\u001b[0m\u001b[0;34m:\u001b[0m\u001b[0;34m\u001b[0m\u001b[0;34m\u001b[0m\u001b[0m\n",
            "\u001b[0;31mTypeError\u001b[0m: not all arguments converted during string formatting"
          ]
        }
      ]
    }
  ]
}