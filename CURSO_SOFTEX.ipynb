{
  "cells": [
    {
      "cell_type": "markdown",
      "metadata": {
        "id": "view-in-github",
        "colab_type": "text"
      },
      "source": [
        "<a href=\"https://colab.research.google.com/github/Pollymeowth/ExerciciosPython/blob/main/CURSO_SOFTEX.ipynb\" target=\"_parent\"><img src=\"https://colab.research.google.com/assets/colab-badge.svg\" alt=\"Open In Colab\"/></a>"
      ]
    },
    {
      "cell_type": "markdown",
      "metadata": {
        "id": "IsyPG399V3s7"
      },
      "source": [
        "#Curso Softex"
      ]
    },
    {
      "cell_type": "markdown",
      "metadata": {
        "id": "J57-RlUmZ3Xz"
      },
      "source": [
        "Lista (criar e adcionar, acessar, modificar,ver todos os elementos)"
      ]
    },
    {
      "cell_type": "code",
      "execution_count": null,
      "metadata": {
        "colab": {
          "base_uri": "https://localhost:8080/"
        },
        "id": "j-WCm6GhVyrA",
        "outputId": "6f813918-ae35-4e01-9be2-f61800dc9b12"
      },
      "outputs": [
        {
          "output_type": "stream",
          "name": "stdout",
          "text": [
            "Minas Gerais\n",
            "['Vitoria', 'Belo Horizonte', 'Rio de Janeiro', 'Sao Paulo']\n",
            "Vitoria\n",
            "Belo Horizonte\n",
            "Rio de Janeiro\n",
            "Sao Paulo\n"
          ]
        }
      ],
      "source": [
        "regiaoSudeste=[] #criar\n",
        "regiaoSudeste = ['Espirito Santo', 'Minas Gerais', 'Rio de Janeiro', 'Sao Paulo']#adcionar\n",
        "print(regiaoSudeste[1]) #acessar um indice\n",
        "regiaoSudeste[0]= 'Vitoria' #modificar valor indice\n",
        "regiaoSudeste[1] = 'Belo Horizonte'#modificar valor indice\n",
        "print(regiaoSudeste) #ver todos os elementos\n",
        "for cap in range (4): #ver todos os elementos de forma organizada\n",
        "  print(regiaoSudeste[cap])"
      ]
    },
    {
      "cell_type": "markdown",
      "metadata": {
        "id": "3KWR445natPf"
      },
      "source": [
        "Incluindo elementos na lista - Metodo append ( )\n",
        "\n"
      ]
    },
    {
      "cell_type": "code",
      "execution_count": null,
      "metadata": {
        "colab": {
          "base_uri": "https://localhost:8080/"
        },
        "id": "-3q4nySCamQ3",
        "outputId": "cada8471-daf7-44b6-b8fd-0f5ce4fe6542"
      },
      "outputs": [
        {
          "output_type": "stream",
          "name": "stdout",
          "text": [
            "['Beatriz', 'Ana', 'Pedro']\n",
            "['Beatriz', 'Ana', 'Pedro', 'Polly']\n"
          ]
        }
      ],
      "source": [
        "alunos=[]\n",
        "alunos = [\"Beatriz\",\"Ana\",\"Pedro\"]\n",
        "print (alunos)\n",
        "alunos.append(\"Polly\")\n",
        "print(alunos)"
      ]
    },
    {
      "cell_type": "markdown",
      "metadata": {
        "id": "Gxef4JhwbUgX"
      },
      "source": [
        "Incluindo elementos na lista - Método insert ( )"
      ]
    },
    {
      "cell_type": "code",
      "execution_count": null,
      "metadata": {
        "colab": {
          "base_uri": "https://localhost:8080/"
        },
        "id": "7bmEBeIZbYnh",
        "outputId": "5a2951fb-aea6-4a95-f914-40711ba58e5a"
      },
      "outputs": [
        {
          "output_type": "stream",
          "name": "stdout",
          "text": [
            "['Beatriz', 'Ana', 'Pedro', 'Polly']\n",
            "['Beatriz', 'Ana', 'Pedro', 'Matheus', 'Polly']\n"
          ]
        }
      ],
      "source": [
        "alunos=[]\n",
        "alunos = ['Beatriz', 'Ana', 'Pedro', 'Polly']\n",
        "print(alunos)\n",
        "alunos.insert(3,\"Matheus\")\n",
        "print(alunos)"
      ]
    },
    {
      "cell_type": "markdown",
      "metadata": {
        "id": "tf_h-U22b06G"
      },
      "source": [
        "Exercicio 1"
      ]
    },
    {
      "cell_type": "code",
      "execution_count": null,
      "metadata": {
        "colab": {
          "base_uri": "https://localhost:8080/"
        },
        "id": "K-62U28qb3S1",
        "outputId": "8b8fbcbd-be2b-47c7-c9dd-ad46b55391a6"
      },
      "outputs": [
        {
          "output_type": "stream",
          "name": "stdout",
          "text": [
            "Fatima Bernardes\n",
            "Paola Oliveira\n",
            "Sheron Menezes\n",
            "\n",
            "\n",
            "Fatima Bernardes\n",
            "Iza\n",
            "Paola Oliveira\n",
            "Sheron Menezes\n"
          ]
        }
      ],
      "source": [
        "lindas=[]\n",
        "lindas.append(\"Fatima Bernardes\")\n",
        "lindas.append(\"Paola Oliveira\")\n",
        "lindas.append(\"Sheron Menezes\")\n",
        "for elas in range (3):\n",
        "  print(lindas[elas])\n",
        "lindas.insert(1,\"Iza\")\n",
        "print(\"\\n\")\n",
        "for elas in range (4):\n",
        "  print(lindas[elas])"
      ]
    },
    {
      "cell_type": "markdown",
      "metadata": {
        "id": "vVpbx1GHc_cv"
      },
      "source": [
        "Exercicio 2 - Adcionando elementos em tempo de execução"
      ]
    },
    {
      "cell_type": "code",
      "execution_count": null,
      "metadata": {
        "id": "VDM0tLFadEGF"
      },
      "outputs": [],
      "source": [
        "listaNomes=[]\n",
        "while True:\n",
        "  nomes=input(\"Insira um nome na lista:\")\n",
        "  listaNomes.append(nomes)\n",
        "  adcNomes =input(\"Deseja adcionar mais algum nome na lista? [S/N]\")\n",
        "  adcNomes= adcNomes.upper()\n",
        "  if adcNomes== \"N\":\n",
        "    break\n",
        "print(listaNomes)\n",
        "\n",
        "#ou#\n",
        "\n",
        "for nomes in listaNomes: #vai pegar os elementos que estao no indice da lista e jogar na variavel 'nomes'\n",
        "  print(nomes)\n"
      ]
    },
    {
      "cell_type": "markdown",
      "metadata": {
        "id": "H9ERcZjDfU1d"
      },
      "source": [
        "Ordenando elementos da lista"
      ]
    },
    {
      "cell_type": "code",
      "execution_count": null,
      "metadata": {
        "id": "XSXj5p7WiSIm"
      },
      "outputs": [],
      "source": [
        "alunos=[]\n",
        "alunos= ['Andre', 'Pedro', 'Heleno', 'Felipe']\n",
        "print(alunos)\n",
        "alunos.sort() #ordem ascendente\n",
        "print(alunos)\n",
        "alunos.sort(reverse =True) #forma descendente\n",
        "print(alunos)"
      ]
    },
    {
      "cell_type": "markdown",
      "metadata": {
        "id": "aaHsbS6RjD7Q"
      },
      "source": [
        "Embaralhando elementos da lista - import random"
      ]
    },
    {
      "cell_type": "code",
      "execution_count": null,
      "metadata": {
        "id": "yPareBjEjJq4"
      },
      "outputs": [],
      "source": [
        "alunos=[]\n",
        "alunos= ['Andre', 'Pedro', 'Heleno', 'Felipe']\n",
        "\n",
        "import random\n",
        "random.shuffle(alunos) #embaralhar aleatoriamente\n",
        "print (alunos)\n"
      ]
    },
    {
      "cell_type": "markdown",
      "metadata": {
        "id": "hz1IIHtkj8Mj"
      },
      "source": [
        "Exercicio 2"
      ]
    },
    {
      "cell_type": "code",
      "execution_count": null,
      "metadata": {
        "id": "TUdapG0bj70U"
      },
      "outputs": [],
      "source": [
        "nomeAlunos=[] #cria a lista\n",
        "while True: #loop infinito\n",
        "  nomes=input(\"Digite um nome: \")\n",
        "  nomeAlunos.append(nomes) #atribui os valores da variavel nome na lista\n",
        "  adcNomes =input(\"Deseja adcionar mais algum nome na lista? [S/N]\") #pergunta se deseja adc, se sim, volta pro loop, se não, quebra o loop.\n",
        "  adcNomes= adcNomes.upper()\n",
        "  if adcNomes== \"N\":\n",
        "    break\n",
        "print(\"Nomes em ordem alfabetica:\") #printa essa frase\n",
        "nomeAlunos.sort() #ordena em ordem ascendente\n",
        "for nomes in nomeAlunos: #chama a lista e atribui os elementos dos indices a variavel 'nomes'\n",
        "  print(nomes) #printa os nomes"
      ]
    },
    {
      "cell_type": "markdown",
      "metadata": {
        "id": "dWl3yy3OxsS9"
      },
      "source": [
        "Quantos elementos na lista e quantas vezes um elemento se repete."
      ]
    },
    {
      "cell_type": "code",
      "execution_count": null,
      "metadata": {
        "id": "yMaj3XU8uRzF"
      },
      "outputs": [],
      "source": [
        "idadePessoas=[]\n",
        "while True:\n",
        "  idade=int(input (\"Qual a sua idade?\"))\n",
        "  idadePessoas.append(idade)\n",
        "  adcIdade=input(\"Deseja adcionar mais alguma idade? S|N\")\n",
        "  if adcIdade.upper() ==\"N\":\n",
        "    break\n",
        "for idade in idadePessoas:\n",
        "  print(idade)\n",
        "print(len(idadePessoas)) #quantos elementos há na lista\n",
        "print(idadePessoas.count(12))#quantas vezes o mesmo elemento se repete"
      ]
    },
    {
      "cell_type": "markdown",
      "metadata": {
        "id": "RVOG-3SCyHnO"
      },
      "source": [
        "Calcular soma e media de uma lista"
      ]
    },
    {
      "cell_type": "code",
      "execution_count": null,
      "metadata": {
        "id": "r-9xrb7tyUXn"
      },
      "outputs": [],
      "source": [
        "idadeAlunos=[12,13,24,21,12,13,24,35,43,45]\n",
        "print(min(idadeAlunos)) #qual o menor valor da lista\n",
        "print(max(idadeAlunos))\n",
        "print(sum(idadeAlunos))\n",
        "print(sum(idadeAlunos)/len(idadeAlunos))\n",
        "print(len(idadeAlunos))"
      ]
    },
    {
      "cell_type": "code",
      "execution_count": null,
      "metadata": {
        "id": "kMhNDZQuxq8u"
      },
      "outputs": [],
      "source": [
        "variosNum=[]\n",
        "while True:\n",
        "  num=int(input (\"Digite um numero:\" ))\n",
        "  variosNum.append(num)\n",
        "  adcNum=input(\"Deseja adcionar mais algum numero (S|N)? \")\n",
        "  if adcNum.upper() ==\"N\":\n",
        "    break\n",
        "for num in variosNum:\n",
        "  print(num)\n",
        "print(len(variosNum)) #quantos elementos há na lista\n",
        "print(variosNum.count(12))#quantas vezes o mesmo elemento se repete\n",
        "#ou seja, se um conjunto possui três termos, por exemplo, multiplicamos os três e calculamos a raiz cúbica do produto."
      ]
    },
    {
      "cell_type": "markdown",
      "metadata": {
        "id": "zFQ7NnWHBDYN"
      },
      "source": [
        "Apagar elementos de uma lista"
      ]
    },
    {
      "cell_type": "code",
      "execution_count": null,
      "metadata": {
        "id": "l1h8pmmPBDC1"
      },
      "outputs": [],
      "source": [
        "nomeLista=[\"Polly\",\"Carlos\",\"Andre\", \"Matheus\", \"Pedro\",\"Andre\", \"Paulo\"]\n",
        "print(len(nomeLista))\n",
        "nomeLista.pop() #some paulo\n",
        "#nomeLista.clear()\n",
        "print(nomeLista)\n",
        "# nomeLista.remove(\"Andre\") #remove o primeiro elemento especificado\n",
        "# ou\n",
        "for nome in nomeLista:\n",
        "  if nome == \"Andre\":\n",
        "    nomeLista.remove(nome)\n",
        "print(nomeLista)\n",
        "nomeLista.clear()\n",
        "print(nomeLista)"
      ]
    },
    {
      "cell_type": "markdown",
      "source": [
        "VERIFICAR SE EXISTE UM ELEMENTO NA LISTA"
      ],
      "metadata": {
        "id": "49i_CIix3K7G"
      }
    },
    {
      "cell_type": "code",
      "source": [
        "nomeLista=[\"Polly\",\"Carlos\",\"Andre\", \"Matheus\", \"Pedro\",\"Andre\", \"Paulo\"]\n",
        "if \"Paulo\" in nomeLista:\n",
        "  print(\"Existe essa variavel!\")"
      ],
      "metadata": {
        "id": "Aq34geaB3ONS"
      },
      "execution_count": null,
      "outputs": []
    },
    {
      "cell_type": "code",
      "source": [
        "idadeAlunos=[10,11,12,13]\n",
        "if 12 in idadeAlunos:\n",
        "  print(\"Existe essa variável!\")"
      ],
      "metadata": {
        "id": "iPYoyr8d3f-5"
      },
      "execution_count": null,
      "outputs": []
    },
    {
      "cell_type": "markdown",
      "source": [
        "Como localizar o indice de um elemento na lista?\n",
        "MÉTODO INDEX"
      ],
      "metadata": {
        "id": "3GvRl2PL-Taw"
      }
    },
    {
      "cell_type": "code",
      "source": [
        "alunos=[]\n",
        "notas=[]\n",
        "\n",
        "for x in range (5): #faz o loop rodar 5x\n",
        "  nome=input(\"Digite o nome de um aluno: \")\n",
        "  nota=float(input(\"Digite a nota desse aluno: \"))\n",
        "  alunos.append(nome) #lista recebe a variavel nome\n",
        "  notas.append(nota) #lista recebe a variavel nota\n",
        "\n",
        "print(alunos)\n",
        "print(notas)\n",
        "\n",
        "\n",
        "indiceMaiorNota= notas.index(max(notas)) #cria uma variavel e verifica em que indice está o valor maximo\n",
        "indiceMenorNota= notas.index(min(notas))#cria uma variavel e verifica em que indice está o valor minimo\n",
        "print(indiceMaiorNota)\n",
        "print(indiceMenorNota)\n",
        "print(\"A maior nota da sala foi de: {}.\".format(alunos[indiceMaiorNota])) #procura na lista alunos qual o elemento que se encontra no indice informado\n",
        "print(\"A menor nota da sala foi de: {}.\".format(alunos[indiceMenorNota])) #procura na lista alunos qual o elemento que se encontra no indice informado"
      ],
      "metadata": {
        "id": "42B8jqx9-X0H"
      },
      "execution_count": null,
      "outputs": []
    },
    {
      "cell_type": "code",
      "source": [
        "#LOJA INFORMATICA X PREÇOS\n",
        "produto=[]\n",
        "preco=[]\n",
        "while True:\n",
        "  x=input(\"Qual o produto(ou digite |N| para sair)?\")\n",
        "  x = x.lower()\n",
        "  if x==\"n\":\n",
        "    break\n",
        "  y=float(input(\"Qual o valor do produto?\"))\n",
        "  produto.append(x)\n",
        "  preco.append(y)\n",
        "\n",
        "indiceMaiorPreco=preco.index(max(preco))\n",
        "indiceMenorPreco=preco.index(min(preco))\n",
        "print(\"O produto mais caro é {}\".format(produto[indiceMaiorPreco]))\n",
        "print(\"O produto mais barato é {}\".format(produto[indiceMenorPreco]))"
      ],
      "metadata": {
        "id": "ulzo78iIFBkR"
      },
      "execution_count": null,
      "outputs": []
    },
    {
      "cell_type": "markdown",
      "source": [
        "Obtendo indices e elementos de uma lista como ENUMERATE( )"
      ],
      "metadata": {
        "id": "mPV6oQaaH7aY"
      }
    },
    {
      "cell_type": "code",
      "source": [
        "#EXEMPLO COMUM\n",
        "produto=[]\n",
        "while True:\n",
        "  x=input(\"Qual o produto(ou digite |S| para sair)?\")\n",
        "\n",
        "  x = x.lower()\n",
        "  if x==\"s\":\n",
        "    break\n",
        "  produto.append(x)\n",
        "qtdElem=len(produto) #atribui o valor (tamanho da lista) na variavel\n",
        "for index in range(qtdElem):\n",
        "  print(\"{}-->{}.\".format(index,produto[index]))"
      ],
      "metadata": {
        "id": "HgySWBQeIEVx"
      },
      "execution_count": null,
      "outputs": []
    },
    {
      "cell_type": "code",
      "source": [
        "#EXEMPLO COM ENUMERATE()// essa função retorna o indice e o elemento do indice respectivamente\n",
        "produto=[]\n",
        "while True:\n",
        "  x=input(\"Qual o produto(ou digite |S| para sair)?\")\n",
        "\n",
        "  x = x.lower()\n",
        "  if x==\"s\":\n",
        "    break\n",
        "  produto.append(x)\n",
        "qtdElem=len(produto)\n",
        "for ind,elem in enumerate(produto):\n",
        "  print(\"{}-->{}.\".format(ind,elem))"
      ],
      "metadata": {
        "id": "z54TqTCQJzOk"
      },
      "execution_count": null,
      "outputs": []
    },
    {
      "cell_type": "markdown",
      "source": [
        "#RESOLVENDO QUESTOES"
      ],
      "metadata": {
        "id": "7nUxQjbRK4wz"
      }
    },
    {
      "cell_type": "markdown",
      "source": [
        "QUESTÃO 1. Um professor de Matemática deseja construir um programa para gerar uma Progressão Aritmética (PA). Para isso, devem ser informados 3 parâmetros de entrada: a) primeiro termo da PA, b) quantidade de termos da PA e c) razão dessa PA. Construa um programa para carregar e imprimir uma lista contendo os termos da PA, bem como a soma dos elementos da PA.\n"
      ],
      "metadata": {
        "id": "X1NwPzBbLOgT"
      }
    },
    {
      "cell_type": "code",
      "source": [],
      "metadata": {
        "id": "hVyIHB9MLdXo"
      },
      "execution_count": null,
      "outputs": []
    },
    {
      "cell_type": "markdown",
      "source": [
        "QUESTÃO 2. Os professores de Educação Física estão organizando uma seletiva para montar a equipe de natação. Para isso, eles convocaram os 7 melhores tempos da última competição e marcaram o tempo de cada um dos nadadores, na prova dos 25 metros, estilo nado livre.\n",
        "Considerando que não houve tempos iguais, construa um programa que leia o nome e o tempo (em segundos) de cada atleta e, em seguida, gere o seguinte relatório: a) nadador com o melhor tempo;  b) nadador com o pior desempenho e; c) tempo médio dos nadadores\n",
        "\n",
        "Dica: Crie duas listas: uma para cadastrar os nomes dos nadadores e outra para guardar os seus respectivos tempos."
      ],
      "metadata": {
        "id": "BkB5YV_pLQ0e"
      }
    },
    {
      "cell_type": "code",
      "source": [],
      "metadata": {
        "id": "wqGytgeDLcsN"
      },
      "execution_count": null,
      "outputs": []
    },
    {
      "cell_type": "markdown",
      "source": [
        "QUESTÃO 3. Uma turma de formandos está vendendo rifas para angariar recursos financeiros para sua cerimônia de formatura. Construa um programa para cadastrar os nomes das pessoas que compraram a rifa. Ao fim, o programa deve sortear o ganhador do prêmio e imprimir o seu nome.\n",
        "\n",
        "Para desenvolver esse programa, observe o exemplo a seguir de como fazer o sorteio em uma lista:\n",
        "\n",
        "import random\n",
        "lista = [1, 2, 3, 4, 5]\n",
        "random.shuffle(lista) #Embaralha a lista\n",
        "sorteado = random.choice(lista) #Sorteia aleatoriamente um elemento\n",
        "print(sorteado)"
      ],
      "metadata": {
        "id": "NhUqWmkeLT3W"
      }
    },
    {
      "cell_type": "code",
      "source": [],
      "metadata": {
        "id": "NLGGFrh9LbyN"
      },
      "execution_count": null,
      "outputs": []
    },
    {
      "cell_type": "markdown",
      "source": [
        "QUESTÃO 4. Crie um programa que solicite o usuário um número N ímpar, maior que 1. Em seguida, preencha uma lista com N números inteiros positivos. Selecione o elemento que está no centro da lista. Ao final, calcule e escreva o fatorial do elemento selecionado."
      ],
      "metadata": {
        "id": "aKZmYneZLXJd"
      }
    },
    {
      "cell_type": "code",
      "source": [
        "n=int(input(\"Digite um numero impar maior que 1: \"))\n",
        "if n>1 and n%2!=0:\n",
        "  pass #vai pra frente\n",
        "else:\n",
        "  print(\"Você não informou um valor válido!\")\n"
      ],
      "metadata": {
        "colab": {
          "base_uri": "https://localhost:8080/"
        },
        "id": "Hd0O9AngLbTN",
        "outputId": "f3c40177-2f99-4d50-f086-ee6264548ba5"
      },
      "execution_count": null,
      "outputs": [
        {
          "output_type": "stream",
          "name": "stdout",
          "text": [
            "Digite um numero impar maior que 1: 1\n",
            "Você não informou um valor válido!\n"
          ]
        }
      ]
    },
    {
      "cell_type": "markdown",
      "source": [
        "#*DESAFIO*"
      ],
      "metadata": {
        "id": "SRtYvkCCD8Jc"
      }
    },
    {
      "cell_type": "code",
      "execution_count": null,
      "metadata": {
        "id": "a1lzlTznLNvw"
      },
      "outputs": [],
      "source": [
        "variosNum = []\n",
        "while True:\n",
        "  num = input(\"Digite um numero (ou digite |N| para sair): \")\n",
        "  if num.upper() == \"N\":\n",
        "    break\n",
        "  variosNum.append(int(num))\n",
        "\n",
        "removeNum = input(\"Você deseja remover números ímpares (I) ou pares (P)?\")\n",
        "removeNum = removeNum.upper()\n",
        "if removeNum==\"P\":\n",
        "  x=0\n",
        "  for x in variosNum:\n",
        "    if x% 2== 0:\n",
        "      variosNum.remove(x)\n",
        "      print(variosNum)\n",
        "\n",
        "\n",
        "# if removeNum == \"P\":\n",
        "#   variosNum = list(filter(lambda x: x % 2 != 0, variosNum))\n",
        "# elif removeNum == \"I\":\n",
        "#   variosNum = list(filter(lambda x: x % 2 == 0, variosNum))\n",
        "\n",
        "# print(\"Números restantes:\", variosNum)"
      ]
    },
    {
      "cell_type": "markdown",
      "metadata": {
        "id": "BKDu2b024T5_"
      },
      "source": [
        "Exercicio Sobre Media Geométrica"
      ]
    },
    {
      "cell_type": "code",
      "execution_count": null,
      "metadata": {
        "id": "cfCm3m911hn9"
      },
      "outputs": [],
      "source": [
        "idadeAlunos=[12,13,24,21,12,13,24,35,43,45]\n",
        "print(min(idadeAlunos)) #qual o menor valor da lista\n",
        "print(max(idadeAlunos))\n",
        "print(sum(idadeAlunos))\n",
        "print(sum(idadeAlunos)/len(idadeAlunos))\n",
        "print(len(idadeAlunos))\n",
        "\n",
        "import math\n",
        "\n",
        "idadeAlunos = [12, 13, 24, 21, 12, 13, 24, 35, 43, 45]\n",
        "\n",
        "produto = 1\n",
        "for idade in idadeAlunos:\n",
        "    produto *= idade\n",
        "\n",
        "media_geometrica = produto ** (1/len(idadeAlunos))\n",
        "\n",
        "print(media_geometrica)"
      ]
    },
    {
      "cell_type": "markdown",
      "source": [],
      "metadata": {
        "id": "X73fxotZExVg"
      }
    },
    {
      "cell_type": "code",
      "execution_count": null,
      "metadata": {
        "id": "C_Dyrqwb4A_8"
      },
      "outputs": [],
      "source": [
        "import math #uma funcao do python para fazer calculos\n",
        "idadeAlunos=[10,10,12,12]\n",
        "produto=1\n",
        "for idade in idadeAlunos:\n",
        "  produto*=idade #multiplicar todos os valores da lista [12*13*24*21*12*13*24*35*43*45]\n",
        "mediaGeometrica=produto **(1/len(idadeAlunos))\n",
        "print(mediaGeometrica)\n",
        "\n",
        "#valor total do produto elevado a quantidade de elementos da lista\n",
        "#Na matemática, a média geométrica de um conjunto de números positivos é definida como o produto de todos os membros do conjunto\n",
        "#elevado ao inverso do número de membros.Indica a tendência central ou o valor típico de um conjunto de números usando o produto dos seus valores.\n",
        "#ou seja, se um conjunto possui três termos, por exemplo, multiplicamos os três e calculamos a raiz cúbica do produto."
      ]
    },
    {
      "cell_type": "code",
      "execution_count": null,
      "metadata": {
        "id": "WL-lxOmQ253Y"
      },
      "outputs": [],
      "source": [
        "import math\n",
        "\n",
        "idadeAlunos = []  # Lista inicial vazia\n",
        "\n",
        "# Adicione os elementos à lista conforme necessário\n",
        "\n",
        "idade = int(input(\"Digite a idade do aluno (ou digite '0' para sair): \"))\n",
        "while idade != 0:\n",
        "    idadeAlunos.append(idade)\n",
        "    idade = int(input(\"Digite a idade do aluno (ou digite '0' para sair): \"))\n",
        "\n",
        "produto = 1\n",
        "for idade in idadeAlunos:\n",
        "    produto *= idade\n",
        "\n",
        "media_geometrica = produto ** (1/len(idadeAlunos))\n",
        "\n",
        "print(media_geometrica)"
      ]
    },
    {
      "cell_type": "markdown",
      "source": [],
      "metadata": {
        "id": "ZDRvqL9VAXPq"
      }
    },
    {
      "cell_type": "markdown",
      "metadata": {
        "id": "wHsmmy0okiwe"
      },
      "source": [
        "#Curso LPA"
      ]
    },
    {
      "cell_type": "markdown",
      "metadata": {
        "id": "oX3QTz9Yko4F"
      },
      "source": [
        "**TUPLAS**"
      ]
    },
    {
      "cell_type": "code",
      "execution_count": null,
      "metadata": {
        "id": "ZyPCNvtXklet"
      },
      "outputs": [],
      "source": [
        "mochila=('papel', 'caneta', 'livro', 'chaves', 'celular')\n",
        "print(mochila)"
      ]
    },
    {
      "cell_type": "code",
      "execution_count": null,
      "metadata": {
        "id": "Ps0ddL81lEGa"
      },
      "outputs": [],
      "source": [
        "print(mochila[0]) #primeiro elemento, indice 0\n",
        "print(mochila[2])# terceiro elemento, indice 2\n",
        "print(mochila[0:2]) #primeiro e segundo elementos (indice 2 é o limite), indice 0 e 1\n",
        "print(mochila[2:]) #a partir do terceiro elemento (indice 2 é o inicio), indices 2,3 e 4\n",
        "print(mochila[-1])#o ultimo elemento (da direita para a esquerda)\n",
        "\n"
      ]
    },
    {
      "cell_type": "code",
      "execution_count": null,
      "metadata": {
        "id": "1ZIzQhs5m4Pr"
      },
      "outputs": [],
      "source": [
        "mochila[2]='lapis'\n",
        "print(mochila)"
      ]
    },
    {
      "cell_type": "markdown",
      "source": [
        "EXERCICIO\n",
        "\n",
        "\n",
        "\n",
        "Crie uma tupla com as 10 primeiras linguagens de programação mais amadas. Em seguida, faça:\n",
        "\n",
        "*   Apresente na tela o ranking numerado com uma palavra em cada linha.\n",
        "*   Apresente na tela somente o top 3 de linguagens.\n",
        "*   Apresenta na tela as últimas 5 do ranking.\n",
        "*   Em que posição está a linguagem Python? Mostre na tela.\n",
        "\n",
        "\n",
        "\n"
      ],
      "metadata": {
        "id": "3DJXP9qbOI9t"
      }
    },
    {
      "cell_type": "code",
      "source": [
        "linguagens= (\"Rust\",\"TypeScript\",\"Python\", \"Kotlin\",\"Go\",\"Julia\", \"Dart\",\"C#\",\"Swift\",\"JavaScript\")\n",
        "print(\"TOP 10 LINGUAGENS DE PROGRAMAÇÃO MAIS AMADAS\")\n",
        "for i in range(0,len(linguagens),1):\n",
        "  print(i+1 ,\"-\",linguagens[i]) #iterador = ele mesmo(começa em 0)+1, toda vez e o laço roda ele soma +1, até o tamanho da tupla\n",
        "  #ou\n",
        "# for ind,elem in enumerate(produto): #metofo enumerate usa ind e elementos\n",
        "#   print(\"{}-->{}.\".format(ind+1,elem))\n",
        "\n",
        "print(\"\\nTOP 3:\", linguagens[0:3]) #top 3\n",
        "print(\"\\nOs 5 últimos do ranking:\",linguagens[-5:]) #ou [5:]\n",
        "i=0\n",
        "while(linguagens[i]!=\"Python\"):\n",
        "  i=i+1\n",
        "print(\"\\nA linguagem Python se encontra na {}ª posição!\".format(i+1))\n",
        "\n"
      ],
      "metadata": {
        "id": "gKE3fRnMONNY"
      },
      "execution_count": null,
      "outputs": []
    },
    {
      "cell_type": "markdown",
      "source": [
        "EXERCICIO\n",
        "\n",
        "Escreva uma função que contenha dois parâmetros. Essa função recebe como parâmetro uma string com uma mensagem a ser impressa na tela e outro parâmetro como sendo uma quantidade arbitrária de números empacotados. Dentro da função, encontre o maior entre todos os números recebidos e escreva na tela, dentro da função, a mensagem e o maior valor."
      ],
      "metadata": {
        "id": "ItcE6SEDYINl"
      }
    },
    {
      "cell_type": "code",
      "source": [
        "def maior(msg,*num):\n",
        "  maior=0\n",
        "  for i in range (0,len(num)): #iterador no intervalo de 0 até tamanho da tupla\n",
        "    if (num[i] > maior): #se o indice da lista (atribuido pelo iterador) maior que 0\n",
        "      maior = num[i]#maior numero = num que estiver no indice atribuido pelo iterador\n",
        "  print(msg,maior)\n",
        "\n",
        "#programa principal\n",
        "maior(\"O maior valor é:\",12,3,8,19,9,32,1)"
      ],
      "metadata": {
        "id": "KQTkeNKoYPiG"
      },
      "execution_count": null,
      "outputs": []
    },
    {
      "cell_type": "markdown",
      "source": [
        "**LISTAS**"
      ],
      "metadata": {
        "id": "KTyXWKkHOxwQ"
      }
    },
    {
      "cell_type": "code",
      "source": [
        "#criar copia vinculada da lista\n",
        "mochila=['papel', 'caneta', 'livro', 'chaves', 'celular']\n",
        "bolsa=mochila #apenas referencia, ou seja, se alterar uma, altera as duas\n",
        "print(mochila)\n",
        "print(bolsa)"
      ],
      "metadata": {
        "id": "L5yKwo4APDkh"
      },
      "execution_count": null,
      "outputs": []
    },
    {
      "cell_type": "code",
      "source": [
        "#para criar uma copia distinta\n",
        "bolsa=mochila[:] #quando coloca os dois pontos, ela distingue as listas\n",
        "bolsa[2]=\"borracha\"\n",
        "print(mochila)\n",
        "print(bolsa)"
      ],
      "metadata": {
        "id": "OsUy6Rk5PVqS"
      },
      "execution_count": null,
      "outputs": []
    },
    {
      "cell_type": "markdown",
      "source": [
        "STRING DENTRO DE LISTA (DUPLA INDEXAÇÃO)"
      ],
      "metadata": {
        "id": "bdOXpK40uxRj"
      }
    },
    {
      "cell_type": "code",
      "source": [
        "mochila=['papel', 'caneta', 'livro', 'chaves', 'celular']\n",
        "print(mochila[0])\n",
        "print(mochila[0][0])\n",
        "print(mochila[1][0])"
      ],
      "metadata": {
        "colab": {
          "base_uri": "https://localhost:8080/"
        },
        "id": "vQd1QgwOu2pI",
        "outputId": "b167ca01-9f9d-4da2-eff9-42d13840e8a1"
      },
      "execution_count": null,
      "outputs": [
        {
          "output_type": "stream",
          "name": "stdout",
          "text": [
            "papel\n",
            "p\n",
            "c\n"
          ]
        }
      ]
    },
    {
      "cell_type": "code",
      "source": [
        "#VARREDURA\n",
        "mochila=['papel', 'caneta', 'livro', 'chaves', 'celular']\n",
        "for item in mochila:\n",
        "  for letra in item:\n",
        "    print(letra,end=\"\")\n",
        "  print()"
      ],
      "metadata": {
        "id": "RrRPoTZ3vf6A"
      },
      "execution_count": null,
      "outputs": []
    },
    {
      "cell_type": "code",
      "source": [
        "#OU\n",
        "mochila=['papel', 'caneta', 'livro', 'chaves', 'celular']\n",
        "for item in range (0,len(mochila)):\n",
        "  for letra in range(0,len(mochila[item]),1):\n",
        "    print (mochila [item][letra], end=\"\")\n",
        "  print()"
      ],
      "metadata": {
        "colab": {
          "base_uri": "https://localhost:8080/"
        },
        "id": "H113qpg-v_28",
        "outputId": "ca1beebb-a91b-4ede-db6e-6080cd235736"
      },
      "execution_count": null,
      "outputs": [
        {
          "output_type": "stream",
          "name": "stdout",
          "text": [
            "papel\n",
            "caneta\n",
            "livro\n",
            "chaves\n",
            "celular\n"
          ]
        }
      ]
    },
    {
      "cell_type": "markdown",
      "source": [
        "Lista dentro de Lista"
      ],
      "metadata": {
        "id": "kGsca_Fqyj-1"
      }
    },
    {
      "cell_type": "code",
      "source": [
        "carrinho=[[\"maça R$\",0.78],[\"mamao R$\",1.50],[\"manga R$\", 0.69]]\n",
        "print(carrinho[0])\n",
        "print(carrinho [1][0])\n",
        "print(carrinho[2][0][0])\n",
        "for item in carrinho:\n",
        "  for lista in item:\n",
        "    print(lista,end=\"\")\n",
        "  print()"
      ],
      "metadata": {
        "id": "QF_hXiKdylx9"
      },
      "execution_count": null,
      "outputs": []
    },
    {
      "cell_type": "markdown",
      "source": [
        "Exercicio 1"
      ],
      "metadata": {
        "id": "uX6W5l8Mz9iV"
      }
    },
    {
      "cell_type": "code",
      "source": [
        "item=[]\n",
        "mercado=[]\n",
        "for i in range(3):\n",
        "  item.append(input(\"Digite o nome do item: \"))\n",
        "  item.append(int(input(\"Digite a quantidade: \")))\n",
        "  item.append(float(input(\"Digite o valor: \")))\n",
        "  mercado.append(item[:]) #aqui a lista mercado recebe uma copia da lista item (desassociada), criando uma lista dentro da lista mercado a cada vez que o loop\n",
        "#se repete, ou seja 3 listas dentro da lista mercado\n",
        "  item.clear()#limpa a lista item que foi criada e que já está salva em mercado, para criar uma nova lista\n",
        "print(mercado)"
      ],
      "metadata": {
        "id": "DUdeTfN4z-oO"
      },
      "execution_count": null,
      "outputs": []
    },
    {
      "cell_type": "code",
      "source": [
        "#OU\n",
        "mercado=[]\n",
        "for i in range(3):\n",
        "  item=input(\"Digite o nome do item: \")\n",
        "  qtd=int(input(\"Digite a quantidade: \"))\n",
        "  preco=float(input(\"Digite o valor: \"))\n",
        "  mercado.append([item,qtd,preco])#aqui cria literalmente uma lista com as variáveis\n",
        "print(mercado)"
      ],
      "metadata": {
        "id": "gjN3dJ7R2BT5"
      },
      "execution_count": null,
      "outputs": []
    },
    {
      "cell_type": "markdown",
      "source": [
        "Exercicio 2"
      ],
      "metadata": {
        "id": "n5SlRhiddCYr"
      }
    },
    {
      "cell_type": "code",
      "source": [
        "soma=0\n",
        "print(\"LISTA DE COMPRAS\")\n",
        "print(\"-\"*20)\n",
        "print(\"|item|quantidade|valor (u)| total|\")\n",
        "for item in mercado:\n",
        "  print(\"|{}|{}|{}|{:.2f}|\".format(item[0],item[1],item[2],item[1]*item[2]))\n",
        "  soma+=item[1]*item[2]\n",
        "print(\"-\"*20)\n",
        "print(\"Total a ser pago = R${}\".format(soma))"
      ],
      "metadata": {
        "id": "stNmV4px3Ddx"
      },
      "execution_count": null,
      "outputs": []
    },
    {
      "cell_type": "markdown",
      "source": [
        "Exercicio 3\n",
        "\n",
        "Escreva um algoritmo em Python que crie uma lista vazia e vá adicionando valores referentes às notas de um aluno nesta lista. Quando o usuário desejar parar de digitar notas (digitando um valor negativo, por exemplo), calcule a média das notas digitadas.\n",
        "\n",
        "Além disso, faça um tratamento para a exceção de divisão por zero (ZeroDivisionError). Essa exceção poderá ocorrer caso o usuário não digite nenhuma nota válida.\n",
        "\n"
      ],
      "metadata": {
        "id": "tmudazusdEcL"
      }
    },
    {
      "cell_type": "code",
      "source": [
        "try:\n",
        "  notas=[]\n",
        "  x=float(input(\"Digite uma nota: \"))\n",
        "  while x>0:\n",
        "    notas.append(x) #a lista notas vai ser povoada com x\n",
        "    x=float(input(\"Digite uma nota: \")) #volta pro inicio do laco e povoa a lista\n",
        "  soma=0 #para fazer a media\n",
        "  for i in notas: #i representa variavel\n",
        "    soma+=i #soma é igual a ela mesma + valor do indice informado\n",
        "  media=soma/len(notas) #soma dos valores dividido pelo tamanho(quantidade de elementos) da lista\n",
        "  print(notas)\n",
        "  print(\"A média das notas dos alunos é de = {}.\".format(media))\n",
        "except ZeroDivisionError: #se fizer esse erro é pq as notas eram menores que zero e não existe divisão por 0\n",
        "  print(\"Nenhum valor válido digitado. Encerrando o programa...\")"
      ],
      "metadata": {
        "id": "2B5UsnMFdOdT"
      },
      "execution_count": null,
      "outputs": []
    },
    {
      "cell_type": "markdown",
      "source": [
        "Exercicio 4\n",
        "\n",
        "Escreva uma função em Python que receba como parâmetro uma lista e um dado. Verifique se o dado está presente na lista e retorne da função o seu índice, caso ele esteja presente, caso contrário, retorne -1."
      ],
      "metadata": {
        "id": "iSEhHhp3gOrx"
      }
    },
    {
      "cell_type": "code",
      "source": [
        "def buscaSequencial (lista, dado):\n",
        "  x=0\n",
        "  while x<len(lista): #enquanto o iterador for menor que a quantidade de elementos da lista, pega o primeiro elemento e joga em x(x vira o indice)\n",
        "    if lista[x]==dado: #se o index da lista for igual ao dado que eu estou buscando\n",
        "      return x #se for já retorna o valor que está no indice x\n",
        "    x+=1 #aqui o iterador é igual a ele mesmo + 1\n",
        "  return -1\n",
        "#funcao principal\n",
        "teste=[2,3,5,6,12,1,9,7,8] #tenho que ter uma lista para que eu possa fazer uma busca\n",
        "dado=int(input(\"Digite um numero inteiro: \"))\n",
        "res= buscaSequencial(teste,dado)\n",
        "if res>=0:\n",
        "  print(\"Posição onde o {} foi encontrado na lista(index): {}.\".format(dado, res))\n",
        "else:\n",
        "  print(\"Dado não encontrado...\")\n"
      ],
      "metadata": {
        "id": "2NwbnwdpgV8I",
        "colab": {
          "base_uri": "https://localhost:8080/"
        },
        "outputId": "985c6bf2-1385-4a58-9f11-9a0f84fcefa7"
      },
      "execution_count": null,
      "outputs": [
        {
          "output_type": "stream",
          "name": "stdout",
          "text": [
            "Digite um numero inteiro: 3\n",
            "Posição onde o 3 foi encontrado na lista(index): 1.\n"
          ]
        }
      ]
    },
    {
      "cell_type": "markdown",
      "source": [
        "Escreva um algoritmo que leia o nome, altura e peso de pessoas e armazene as informações em uma lista. O programa deve ir cadastrando um número indeterminado de dados e armazenar dentro da lista também o IMC da pessoa. Ao final do programa, imprima a lista completa e também:\n",
        "\n",
        "- O total de cadastros\n",
        "- A pessoa com o maior IMC\n",
        "- A pessoa com o menor IMC\n",
        "- O cálculo do IMC deve ser realizado empregando uma função lambda e é dado como: IMC = peso / (altura²).\n",
        "\n",
        "Em que a massa é dada em quilograma e a altura em metros."
      ],
      "metadata": {
        "id": "nOwg8DXyApey"
      }
    },
    {
      "cell_type": "code",
      "source": [
        "pessoas=[]\n",
        "imc = lambda peso,altura: peso/(altura*altura)\n",
        "\n",
        "while True:\n",
        "  nome=input(\"Qual o seu nome? \")\n",
        "  altura=float(input(\"Qual a sua altura? \"))\n",
        "  peso=float(input(\"Qual o seu peso atual? \"))\n",
        "  x=imc(peso,altura)\n",
        "  pessoas.append([nome,altura,peso,x])\n",
        "  res=input(\"Deseja fazer mais algum cadastro(S|N) ?\")\n",
        "  if res.lower()==\"n\":\n",
        "    break\n",
        "\n",
        "print(\"Cadastro: {}\".format(pessoas))\n",
        "print(\"Total de cadastros: {}\".format(len(pessoas)))\n",
        "\n",
        "maior=0\n",
        "menor=99\n",
        "\n",
        "for i in range(0,len(pessoas)):#o iterador aqui recebe o numero no indice\n",
        "  if pessoas[i][3]>maior: #confere se o numero é maior que 0\n",
        "    maior=pessoas[i][3]#atribui o maior na primera rodada\n",
        "  if pessoas[i][3]<menor:\n",
        "    menor=pessoas[i][3]#tambem atribui o primeiro valor e atribui ao menor na primeira rodada\n",
        "\n",
        "print(\"Maior IMC: \", maior)\n",
        "print(\"Menor IMC: \",menor)\n",
        "\n",
        "\n"
      ],
      "metadata": {
        "id": "kmKQqIQKA2fA"
      },
      "execution_count": null,
      "outputs": []
    },
    {
      "cell_type": "markdown",
      "source": [
        "**DICIONARIOS**"
      ],
      "metadata": {
        "id": "_NzIzK5vgA0_"
      }
    },
    {
      "cell_type": "code",
      "source": [
        "games={'Nome':\"Super Mario\",\n",
        "       'Desenvolvedora':'Nintendo',\n",
        "       'Ano':'1990'}\n",
        "print(games)"
      ],
      "metadata": {
        "id": "eZm9v-NYIc0r"
      },
      "execution_count": null,
      "outputs": []
    },
    {
      "cell_type": "code",
      "source": [
        "print(games[\"Nome\"])\n",
        "print(games[\"Desenvolvedora\"])\n",
        "print(games[\"Ano\"])"
      ],
      "metadata": {
        "id": "4WdD6FqRI30l"
      },
      "execution_count": null,
      "outputs": []
    },
    {
      "cell_type": "code",
      "source": [
        "# print(games.values())\n",
        "for i in games.values():\n",
        "  print(i)\n",
        "# print(games.keys())\n",
        "for i in games.keys():\n",
        "  print(i)\n",
        "# print(games.items())\n",
        "for i in games.items():\n",
        "  print(i)"
      ],
      "metadata": {
        "id": "fXOdkN4dKDsb"
      },
      "execution_count": null,
      "outputs": []
    },
    {
      "cell_type": "code",
      "source": [
        "for i,j in games.items():#pq nesse metodo sao duas variaveis (chave,dado)\n",
        "  print(\"{}={}.\".format(i,j))"
      ],
      "metadata": {
        "id": "iIH5xSayRaWR"
      },
      "execution_count": null,
      "outputs": []
    },
    {
      "cell_type": "markdown",
      "source": [
        "**LISTAS COM DICIONARIOS DENTRO DELAS**"
      ],
      "metadata": {
        "id": "yCgbz1BVX16O"
      }
    },
    {
      "cell_type": "code",
      "source": [
        "games=[] #crio uma lista vazia\n",
        "game1={\"nome\": \"Super Mario\",\n",
        "       \"videogame\":\"Super Nintendo\",\n",
        "       \"ano\":\"1990\"}\n",
        "game2={\"nome\":\"Zelda Ocarina of Time\",\n",
        "       \"videogame\": \"Nintendo 64\",\n",
        "       \"ano\":\"1998\"}\n",
        "game3={\"nome\":\"Pokemon Yellow\",\n",
        "       \"videogame\":\"Gameboy\",\n",
        "       \"ano\":\"1999\"}\n",
        "games= [game1,game2,game3]\n",
        "print(games)\n",
        "for i in games.items():\n",
        "  print(i)\n"
      ],
      "metadata": {
        "id": "8RKnCTzxSes9"
      },
      "execution_count": null,
      "outputs": []
    },
    {
      "cell_type": "code",
      "source": [
        "game={}\n",
        "games=[]\n",
        "for i in range(3):\n",
        "  game['Nome']=input(\"Qual o nome do jogo? \")\n",
        "  game['Videogame']=input(\"Para qual videogame foi lançado? \")\n",
        "  game['Ano']=input(\"Em que ano foi lançado?\")\n",
        "  games.append(game.copy())\n",
        "for dic in games:\n",
        "  for i,j in dic.items():\n",
        "    print(\"{} : {}.\".format(i,j))"
      ],
      "metadata": {
        "id": "E9ea7XAHUxeE"
      },
      "execution_count": null,
      "outputs": []
    },
    {
      "cell_type": "markdown",
      "source": [
        "**DICIONARIOS COM LISTA DENTRO DELE**"
      ],
      "metadata": {
        "id": "FsYLDEdfYBt-"
      }
    },
    {
      "cell_type": "code",
      "source": [
        "games={\"Nome\":[\"Super Mario\", \"Zelda Ocarina of Time\", \"Pokemon\"],\n",
        "       \"Videogame\":[\"SNES\", \"N64\", \"Game Boy\"],\n",
        "       \"Ano\": [1990,1998,1999]}\n",
        "print(games)"
      ],
      "metadata": {
        "colab": {
          "base_uri": "https://localhost:8080/"
        },
        "id": "SwX0oHMKYFm4",
        "outputId": "b39e1238-5189-4130-b521-a978d0a1da92"
      },
      "execution_count": null,
      "outputs": [
        {
          "output_type": "stream",
          "name": "stdout",
          "text": [
            "{'Nome': ['Super Mario', 'Zelda Ocarina of Time', 'Pokemon'], 'Videogame': ['SNES', 'N64', 'Game Boy'], 'Ano': [1990, 1998, 1999]}\n"
          ]
        }
      ]
    },
    {
      "cell_type": "code",
      "source": [
        "games={\"Nome\":[],\n",
        "       \"Videogames\":[],\n",
        "       \"Ano\":[]}\n",
        "for i in range(3):\n",
        "  nome =input(\"Qual o nome do jogo? \")\n",
        "  videogame =input(\"Para qual videogame foi lançado? \")\n",
        "  ano =input(\"Em que ano foi lançado?\")\n",
        "  games[\"Nome\"].append(nome)\n",
        "  games[\"Videogames\"].append(videogame)\n",
        "  games['Ano'].append(ano)\n",
        "print(\"-\"*20)\n",
        "print(games)"
      ],
      "metadata": {
        "colab": {
          "base_uri": "https://localhost:8080/"
        },
        "id": "f3IJEPb7ZAfD",
        "outputId": "c5b4bd53-e960-4ac4-ecb0-7808037a7849"
      },
      "execution_count": null,
      "outputs": [
        {
          "output_type": "stream",
          "name": "stdout",
          "text": [
            "Qual o nome do jogo? Mario\n",
            "Para qual videogame foi lançado? SNES\n",
            "Em que ano foi lançado?1990\n",
            "Qual o nome do jogo? Zelda\n",
            "Para qual videogame foi lançado? N64\n",
            "Em que ano foi lançado?1998\n",
            "Qual o nome do jogo? Pokemon\n",
            "Para qual videogame foi lançado? GB\n",
            "Em que ano foi lançado?1999\n",
            "--------------------\n",
            "{'Nome': ['Mario', 'Zelda', 'Pokemon'], 'Videogames': ['SNES', 'N64', 'GB'], 'Ano': ['1990', '1998', '1999']}\n"
          ]
        }
      ]
    },
    {
      "cell_type": "markdown",
      "source": [
        "Exercicio1\n",
        "\n",
        "Escreva um programa em Python que leia o nome de um aluno e três notas. Armazene em um dicionário o nome e a média aritmética da nota. Ainda, armazene no dicionário a situação do aluno:\n",
        "\n",
        "- Média >= 7, aprovado.\n",
        "- Média < 7 e >= 5, em exame.\n",
        "- Média < 5, reprovado.\n",
        "Apresente tudo na tela ao final do programa em um formato organizado."
      ],
      "metadata": {
        "id": "toCcfC_mapmP"
      }
    },
    {
      "cell_type": "code",
      "source": [
        "aluno={}\n",
        "aluno[\"Nome\"]=input(\"Qual o nome do aluno?\")\n",
        "n1=float(input(\"Qual a primeira nota? \"))\n",
        "n2=float(input(\"Qual a segunda nota? \"))\n",
        "n3=float(input(\"Qual a terceira nota? \"))\n",
        "aluno['Media']=(n1+n2+n3)/3\n",
        "if aluno[\"Media\"]>=7:\n",
        "  aluno['Status']= \"Aprovado\"\n",
        "elif aluno[\"Media\"]<7 and aluno[\"Media\"]>=5:\n",
        "  aluno['Status']=\"Exame\"\n",
        "else:\n",
        "  aluno[\"Status\"]=\"Reprovado\"\n",
        "for i,j in aluno.items():\n",
        "  print(\"{} = {}\".format(i,j))"
      ],
      "metadata": {
        "id": "1bylzenuaxyU"
      },
      "execution_count": null,
      "outputs": []
    },
    {
      "cell_type": "markdown",
      "source": [
        "**Exercicio 2**\n",
        "\n",
        "Crie um programa em Python para controle de estoque de produtos de um estabelecimento que vende produtos de hortifruti. Para o estoque, armazene tudo dentro de um dicionário contendo listas. A chave deverá ser o nome de cada produto e dentro de cada lista teremos o preço e a quantidade disponível no estoque. O estoque pode estar pré-cadastrado no sistema com quantos itens desejar.\n",
        "\n",
        "Simule uma compra. Peça ao usuário para digitar o nome do produto e a quantidade que deseja até que ele decida encerrar a compra. Ao final, apresente tudo na tela em um formato organizado, mostrando o total a ser pago por produto e o total final do pedido.\n",
        "\n",
        "Ainda, dê baixa no sistema descontado o que foi comprado do total. Imprima na tela o estoque restante."
      ],
      "metadata": {
        "id": "ibTtbqxWeAZA"
      }
    },
    {
      "cell_type": "code",
      "source": [
        "\n",
        "# Claro! Vou explicar o código passo a passo de forma simples:\n",
        "\n",
        "# Primeiro, temos um dicionário chamado estoque, que armazena informações sobre os produtos disponíveis para venda.\n",
        "# Cada chave do dicionário é o nome de um produto, e o valor correspondente é uma lista contendo a quantidade em estoque e o preço unitário do produto.\n",
        "\n",
        "# Em seguida, usamos um loop for para percorrer o dicionário estoque e exibir as informações de cada produto,\n",
        "# incluindo o nome, a quantidade em estoque e o preço unitário.\n",
        "\n",
        "# Depois disso, inicializamos uma lista chamada pedido para armazenar os produtos que o cliente deseja comprar.\n",
        "\n",
        "# Em um loop while, solicitamos ao cliente que digite o nome do produto que deseja comprar e a quantidade desejada.\n",
        "# Em seguida, adicionamos essas informações à lista pedido.\n",
        "\n",
        "# Perguntamos ao cliente se ele deseja comprar mais algum item. Se a resposta for \"N\" ou \"n\", saímos do loop.\n",
        "\n",
        "# Em seguida, inicializamos a variável total para armazenar o valor total da compra.\n",
        "\n",
        "# Imprimimos o cabeçalho \"Vendas\" e, para cada item no pedido, calculamos o valor total do produto com base na quantidade desejada\n",
        "#  e no preço unitário obtidos do dicionário estoque. Também subtraímos a quantidade vendida do estoque.\n",
        "\n",
        "# Acumulamos o valor total do produto na variável total.\n",
        "\n",
        "# Após o loop, exibimos o valor total da compra.\n",
        "\n",
        "# Em seguida, exibimos o cabeçalho \"Estoque\" e percorremos o dicionário estoque novamente para exibir as informações atualizadas de cada produto,\n",
        "#  incluindo a quantidade em estoque e o preço unitário.\n",
        "\n",
        "# Espero que esta explicação tenha sido útil! Se você tiver mais alguma dúvida, sinta-se à vontade para perguntar."
      ],
      "metadata": {
        "id": "jYkhVpByf0mY"
      },
      "execution_count": null,
      "outputs": []
    },
    {
      "cell_type": "code",
      "source": [
        "estoque={'maça':[100,0.52],\n",
        "         \"banana\": [100,0.30],\n",
        "         \"manga\":[50,0.25],\n",
        "         \"pêssego\":[50,1.30]}\n",
        "for i,j in estoque.items():\n",
        "  print(\"Produto:\", i)\n",
        "  print(\"Qtd:\", j[0])\n",
        "  print(\"Preço unitário: R$\",j[1])\n",
        "\n",
        "pedido=[] #a lista vai armazenar os produtos que o cliente deseja comprar\n",
        "while True:\n",
        "  itemNome=input(\"Digite o nome do produto que deseja comprar: \")\n",
        "  itemQtd=int(input(\"Quantidade de itens que deseja adquirir: \"))\n",
        "  pedido.append([itemNome,itemQtd]) #adc as informacoes a lista pedido (nome,qtd)\n",
        "  res=input(\"Deseja comprar mais algum item (S|N)?\")\n",
        "  if res in\"Nn\":\n",
        "    break\n",
        "total=0 #armazenar valor total da compra\n",
        "print(\"\\nVendas\")\n",
        "for item in pedido: #cria um loop lista pedido[itemNome,itemQtd]\n",
        "  produto=item[0] #na lista 'pedido' o indice 0 recebe 'produto'(atribuido como itemNome anteriormente)\n",
        "  qtd=item[1]#na lista 'pedido' o indice 1 recebe 'qtd'(atribuido como itemQtd anteriormente)\n",
        "  preco=estoque[produto][1] #preço é atribuido ao valor localizado no dicionario 'estoque' chave(produto) e lista indice 1(preço unitario)\n",
        "  valorProduto= preco*qtd  #valor do produto = preco unitario*qtd\n",
        "  print(\"{}: {} x {} = {:.2f}. \".format(produto, qtd, preco, valorProduto))\n",
        "  estoque[produto][0]-=qtd #estoque é atribuido ao valor localizado no dicionario 'estoque' chave(produto) e lista indice 0(qtd) menos a qtd escolhida\n",
        "  total+=valorProduto\n",
        "print(\"Valor total= R$ {} \\n.\".format(total))\n",
        "print(\"Estoque:\")\n",
        "for i,j in estoque.items():\n",
        "  print(\"Descrição: {}\".format(i))\n",
        "  print(\"Quantidade: {}\".format(j[0]))\n",
        "  print(\"Preço: R$ {}\\n\".format(j[1]))\n",
        "\n",
        "\n",
        "\n",
        "\n",
        "\n"
      ],
      "metadata": {
        "id": "dDlLfSqteKTL"
      },
      "execution_count": null,
      "outputs": []
    },
    {
      "cell_type": "markdown",
      "source": [
        "**TRABALHANDO COM METODOS EM STRINGS**"
      ],
      "metadata": {
        "id": "BHe8Ome7xO5g"
      }
    },
    {
      "cell_type": "markdown",
      "source": [
        "*Tranformar string em lista*"
      ],
      "metadata": {
        "id": "3oIsN3LxyWEV"
      }
    },
    {
      "cell_type": "code",
      "source": [
        "s1='Algoritmo'\n",
        "print(s1)\n",
        "#a string é imutavel"
      ],
      "metadata": {
        "colab": {
          "base_uri": "https://localhost:8080/"
        },
        "id": "AycinAvKxOZ2",
        "outputId": "bce892f4-07bb-42e5-f787-d2a87c5b98f7"
      },
      "execution_count": null,
      "outputs": [
        {
          "output_type": "stream",
          "name": "stdout",
          "text": [
            "Algoritmo\n"
          ]
        }
      ]
    },
    {
      "cell_type": "code",
      "source": [
        "#porém se eu transformar ela em lista:\n",
        "s1=list('Polly')\n",
        "print(s1) #printa separado, pois transforma cada caracter em um elemento da lista\n",
        "print(\"\".join(s1))# printa agrupado"
      ],
      "metadata": {
        "colab": {
          "base_uri": "https://localhost:8080/"
        },
        "id": "jkcJnQIoxbbQ",
        "outputId": "42d04299-d801-4409-84aa-02be6fb67ae5"
      },
      "execution_count": null,
      "outputs": [
        {
          "output_type": "stream",
          "name": "stdout",
          "text": [
            "['P', 'o', 'l', 'l', 'y']\n",
            "Polly\n"
          ]
        }
      ]
    },
    {
      "cell_type": "code",
      "source": [
        "s1[0]='d'\n",
        "print(s1)\n",
        "print(\"\".join(s1))"
      ],
      "metadata": {
        "colab": {
          "base_uri": "https://localhost:8080/"
        },
        "id": "j-vNNNRHyENB",
        "outputId": "975a5b05-6adb-4f10-ce83-247034a43864"
      },
      "execution_count": null,
      "outputs": [
        {
          "output_type": "stream",
          "name": "stdout",
          "text": [
            "['d', 'o', 'l', 'l', 'y']\n",
            "dolly\n"
          ]
        }
      ]
    },
    {
      "cell_type": "markdown",
      "source": [
        "*Verificando Caracter*"
      ],
      "metadata": {
        "id": "W0LKZIOFySHL"
      }
    },
    {
      "cell_type": "code",
      "source": [
        "s1= \"Lógica de Programação e Algoritmos\"\n",
        "s1.startswith(\"Lógica\")"
      ],
      "metadata": {
        "colab": {
          "base_uri": "https://localhost:8080/"
        },
        "id": "ltUYkLkRyRyx",
        "outputId": "a92b0f92-65c6-4ee9-cdd8-84247809515f"
      },
      "execution_count": null,
      "outputs": [
        {
          "output_type": "execute_result",
          "data": {
            "text/plain": [
              "True"
            ]
          },
          "metadata": {},
          "execution_count": 63
        }
      ]
    },
    {
      "cell_type": "code",
      "source": [
        "s1.endswith(\"Algoritmos\")"
      ],
      "metadata": {
        "colab": {
          "base_uri": "https://localhost:8080/"
        },
        "id": "tuHySR4j1UEf",
        "outputId": "d7783e51-ab7d-4855-9a5f-abb9387df3ea"
      },
      "execution_count": null,
      "outputs": [
        {
          "output_type": "execute_result",
          "data": {
            "text/plain": [
              "True"
            ]
          },
          "metadata": {},
          "execution_count": 64
        }
      ]
    },
    {
      "cell_type": "code",
      "source": [
        "s1.endswith(\"algoritmos\")"
      ],
      "metadata": {
        "colab": {
          "base_uri": "https://localhost:8080/"
        },
        "id": "G-PZzbDY1bhd",
        "outputId": "edec5d0d-3eca-467e-89ca-16cc282d0fbf"
      },
      "execution_count": null,
      "outputs": [
        {
          "output_type": "execute_result",
          "data": {
            "text/plain": [
              "False"
            ]
          },
          "metadata": {},
          "execution_count": 65
        }
      ]
    },
    {
      "cell_type": "code",
      "source": [
        "s1.lower().endswith('algoritmos')"
      ],
      "metadata": {
        "colab": {
          "base_uri": "https://localhost:8080/"
        },
        "id": "ioCAevi11shZ",
        "outputId": "657237e5-4a77-46e6-8b90-2701cdc7e296"
      },
      "execution_count": null,
      "outputs": [
        {
          "output_type": "execute_result",
          "data": {
            "text/plain": [
              "True"
            ]
          },
          "metadata": {},
          "execution_count": 66
        }
      ]
    },
    {
      "cell_type": "markdown",
      "source": [],
      "metadata": {
        "id": "WPSKYqx62L1o"
      }
    },
    {
      "cell_type": "code",
      "source": [
        "print(s1.upper())\n",
        "print(s1.lower())"
      ],
      "metadata": {
        "colab": {
          "base_uri": "https://localhost:8080/"
        },
        "id": "IK5af2B117jO",
        "outputId": "aeea5c08-7b17-4d54-c0e9-7e69cde9ac31"
      },
      "execution_count": null,
      "outputs": [
        {
          "output_type": "stream",
          "name": "stdout",
          "text": [
            "LÓGICA DE PROGRAMAÇÃO E ALGORITMOS\n",
            "lógica de programação e algoritmos\n"
          ]
        }
      ]
    },
    {
      "cell_type": "markdown",
      "source": [
        "*Contando Caracteres*"
      ],
      "metadata": {
        "id": "a22yKs2B2JNr"
      }
    },
    {
      "cell_type": "code",
      "source": [
        "s1.count(\"a\")"
      ],
      "metadata": {
        "colab": {
          "base_uri": "https://localhost:8080/"
        },
        "id": "RIr5S3A52o1R",
        "outputId": "40fb4e6f-7904-4c7a-a78b-b382558a865f"
      },
      "execution_count": null,
      "outputs": [
        {
          "output_type": "execute_result",
          "data": {
            "text/plain": [
              "3"
            ]
          },
          "metadata": {},
          "execution_count": 71
        }
      ]
    },
    {
      "cell_type": "code",
      "source": [
        "s1.lower().count('a')"
      ],
      "metadata": {
        "colab": {
          "base_uri": "https://localhost:8080/"
        },
        "id": "b3ouf0ak2N2h",
        "outputId": "2d91f752-77aa-428a-8385-c7fbe05d5b41"
      },
      "execution_count": null,
      "outputs": [
        {
          "output_type": "execute_result",
          "data": {
            "text/plain": [
              "4"
            ]
          },
          "metadata": {},
          "execution_count": 70
        }
      ]
    },
    {
      "cell_type": "code",
      "source": [
        "s1=\"Um mafagafinho, dois mafagafinhos, três mafagafinhos\"\n",
        "s1.count(\"mafagafinho\")"
      ],
      "metadata": {
        "colab": {
          "base_uri": "https://localhost:8080/"
        },
        "id": "ZnXkfkRr2tTK",
        "outputId": "25751e5d-6ea3-4b2f-ba1f-7d783c9d72f6"
      },
      "execution_count": null,
      "outputs": [
        {
          "output_type": "execute_result",
          "data": {
            "text/plain": [
              "3"
            ]
          },
          "metadata": {},
          "execution_count": 73
        }
      ]
    },
    {
      "cell_type": "markdown",
      "source": [
        "*Quebrando Strings*"
      ],
      "metadata": {
        "id": "x0BC-yPK2-Vq"
      }
    },
    {
      "cell_type": "code",
      "source": [
        "s1=\"Um mafagafinho, dois mafagafinhos, três mafagafinhos...\"\n",
        "s1.split(\" \") #cria uma lista e separa em elementos"
      ],
      "metadata": {
        "colab": {
          "base_uri": "https://localhost:8080/"
        },
        "id": "kJSf2P0q3Bf7",
        "outputId": "52292698-f28e-42ff-db1b-ebf9e1ea746e"
      },
      "execution_count": null,
      "outputs": [
        {
          "output_type": "execute_result",
          "data": {
            "text/plain": [
              "['Um', 'mafagafinho,', 'dois', 'mafagafinhos,', 'três', 'mafagafinhos...']"
            ]
          },
          "metadata": {},
          "execution_count": 77
        }
      ]
    },
    {
      "cell_type": "markdown",
      "source": [
        "*Substituindo Strings*"
      ],
      "metadata": {
        "id": "aJqaztO63avU"
      }
    },
    {
      "cell_type": "code",
      "source": [
        "s1=\"Um mafagafinho, dois mafagafinhos, três mafagafinhos...\"\n",
        "s1.replace(\"mafagafinho\", \"gatinho\")"
      ],
      "metadata": {
        "colab": {
          "base_uri": "https://localhost:8080/",
          "height": 35
        },
        "id": "jmb-F40J3kUf",
        "outputId": "ef0a96df-9a41-4040-d83e-0c7fa15ef091"
      },
      "execution_count": null,
      "outputs": [
        {
          "output_type": "execute_result",
          "data": {
            "text/plain": [
              "'Um gatinho, dois gatinhos, três gatinhos...'"
            ],
            "application/vnd.google.colaboratory.intrinsic+json": {
              "type": "string"
            }
          },
          "metadata": {},
          "execution_count": 78
        }
      ]
    },
    {
      "cell_type": "code",
      "source": [
        "s1=\"Um mafagafinho, dois mafagafinhos, três mafagafinhos...\"\n",
        "s1.replace(\"mafagafinho\", \"gatinho\", 1) #em quantas ocorrencias ele vai substituir"
      ],
      "metadata": {
        "colab": {
          "base_uri": "https://localhost:8080/",
          "height": 35
        },
        "id": "ErgfTpwa3s0c",
        "outputId": "a6d8bcd8-b598-4282-c602-36389181cd50"
      },
      "execution_count": null,
      "outputs": [
        {
          "output_type": "execute_result",
          "data": {
            "text/plain": [
              "'Um gatinho, dois mafagafinhos, três mafagafinhos...'"
            ],
            "application/vnd.google.colaboratory.intrinsic+json": {
              "type": "string"
            }
          },
          "metadata": {},
          "execution_count": 81
        }
      ]
    },
    {
      "cell_type": "markdown",
      "source": [
        "*Validando tipos de dados*"
      ],
      "metadata": {
        "id": "hyA6XHO84JHJ"
      }
    },
    {
      "cell_type": "code",
      "source": [
        "s1= \"Lógica de Programação e Algoritmos\"\n",
        "s2= \"42\""
      ],
      "metadata": {
        "id": "dXGpsmlE4xmj"
      },
      "execution_count": null,
      "outputs": []
    },
    {
      "cell_type": "code",
      "source": [
        "print(s1.isalnum())\n",
        "print(s2.isalnum())"
      ],
      "metadata": {
        "colab": {
          "base_uri": "https://localhost:8080/"
        },
        "id": "IyJcd5H847SZ",
        "outputId": "bfdd32da-411b-4162-f5bf-866ee918da3b"
      },
      "execution_count": null,
      "outputs": [
        {
          "output_type": "stream",
          "name": "stdout",
          "text": [
            "False\n",
            "True\n"
          ]
        }
      ]
    },
    {
      "cell_type": "code",
      "source": [
        "print(s1.isalpha())\n",
        "print(s2.isalpha())"
      ],
      "metadata": {
        "colab": {
          "base_uri": "https://localhost:8080/"
        },
        "id": "5Ae6wUc05Th0",
        "outputId": "2dbfe42a-8465-4b6b-83a7-83e1ef13a423"
      },
      "execution_count": null,
      "outputs": [
        {
          "output_type": "stream",
          "name": "stdout",
          "text": [
            "False\n",
            "False\n"
          ]
        }
      ]
    },
    {
      "cell_type": "code",
      "source": [
        "s1= \"LógicadeProgramaçãoeAlgoritmos\"\n",
        "print(s1.isalpha())"
      ],
      "metadata": {
        "colab": {
          "base_uri": "https://localhost:8080/"
        },
        "id": "ndx4nOw45byN",
        "outputId": "25ead0b8-a20e-4ad9-ec11-bd3d77340275"
      },
      "execution_count": null,
      "outputs": [
        {
          "output_type": "stream",
          "name": "stdout",
          "text": [
            "True\n"
          ]
        }
      ]
    },
    {
      "cell_type": "code",
      "source": [
        "\tx = 5\n",
        "while x <= 25:\n",
        "   print(x)\n",
        "   x += 5"
      ],
      "metadata": {
        "colab": {
          "base_uri": "https://localhost:8080/"
        },
        "id": "Y0cTndMc_j-w",
        "outputId": "cf22dbf0-01b0-4ac9-dfe4-77b2d55e92f8"
      },
      "execution_count": null,
      "outputs": [
        {
          "output_type": "stream",
          "name": "stdout",
          "text": [
            "5\n",
            "10\n",
            "15\n",
            "20\n",
            "25\n"
          ]
        }
      ]
    }
  ],
  "metadata": {
    "colab": {
      "provenance": [],
      "authorship_tag": "ABX9TyNjTtahElY9ZxX7uUNq2MNb",
      "include_colab_link": true
    },
    "kernelspec": {
      "display_name": "Python 3",
      "name": "python3"
    },
    "language_info": {
      "name": "python"
    }
  },
  "nbformat": 4,
  "nbformat_minor": 0
}