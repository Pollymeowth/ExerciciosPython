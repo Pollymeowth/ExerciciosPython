{
  "nbformat": 4,
  "nbformat_minor": 0,
  "metadata": {
    "colab": {
      "provenance": [],
      "authorship_tag": "ABX9TyPlqoQxqQYeoangSTmFPHDq",
      "include_colab_link": true
    },
    "kernelspec": {
      "name": "python3",
      "display_name": "Python 3"
    },
    "language_info": {
      "name": "python"
    }
  },
  "cells": [
    {
      "cell_type": "markdown",
      "metadata": {
        "id": "view-in-github",
        "colab_type": "text"
      },
      "source": [
        "<a href=\"https://colab.research.google.com/github/Pollymeowth/ExerciciosPython/blob/main/EXERCICIOS_LA%C3%87O_DE_REPETICAO.ipynb\" target=\"_parent\"><img src=\"https://colab.research.google.com/assets/colab-badge.svg\" alt=\"Open In Colab\"/></a>"
      ]
    },
    {
      "cell_type": "markdown",
      "source": [
        "Fácil  1 – *Faça um programa que receba um número e usando laços de repetição calcule e mostre a tabuada desse número.*"
      ],
      "metadata": {
        "id": "RkuB890RqM--"
      }
    },
    {
      "cell_type": "code",
      "execution_count": null,
      "metadata": {
        "id": "acG0y0Z4qIX5"
      },
      "outputs": [],
      "source": [
        "tab=int(input(\"Deseja saber a tabuada de que número?\"))\n",
        "for x in range (1,11,1):\n",
        "  print(\"{}x{}={}\".format(tab,x,tab*x))\n",
        "  x+=1"
      ]
    },
    {
      "cell_type": "code",
      "source": [
        "tab=int(input(\"Deseja saber a tabuada de que número?\"))\n",
        "cont=1\n",
        "while (cont<=10):\n",
        "  print(\"{}x{}={}\".format(tab,cont,tab*cont))\n",
        "  cont+=1\n"
      ],
      "metadata": {
        "id": "REL_hYrjsm9v"
      },
      "execution_count": null,
      "outputs": []
    },
    {
      "cell_type": "markdown",
      "source": [
        "Fácil  2 –  *Faça um programa que mostre as tabuadas dos números de 1 a 10 usando laços de repetição.*"
      ],
      "metadata": {
        "id": "i-BXo9EDvLLT"
      }
    },
    {
      "cell_type": "code",
      "source": [
        "for tab in range (1,11,1): #tabuada de 1 a 10\n",
        "  print(\"TABUADA DO {}\".format(tab))\n",
        "  cont=1\n",
        "  while cont<=10:\n",
        "    print(\"{}x{}={}\".format(tab, tab,cont,tab*cont))\n",
        "    cont+=1\n",
        "tab+=1\n"
      ],
      "metadata": {
        "id": "0_DJwjPgvNpT"
      },
      "execution_count": null,
      "outputs": []
    },
    {
      "cell_type": "code",
      "source": [
        "cont=1\n",
        "while cont<=10:\n",
        "  print(\"TABUADA DO {}\".format(cont))\n",
        "  for x in range (1,11,1):\n",
        "    print(\"{}x{}={}\".format(cont,x,cont*x))\n",
        "  cont+=1"
      ],
      "metadata": {
        "id": "4VV6JFzvw1HP"
      },
      "execution_count": null,
      "outputs": []
    },
    {
      "cell_type": "markdown",
      "source": [
        "Fácil 3 – *Faça um programa que verifique e mostre os números entre 1.000 e 2.000 (inclusive) que, quando divididos por 11 produzam resto igual a 2.*"
      ],
      "metadata": {
        "id": "zDNWVEmFxvrJ"
      }
    },
    {
      "cell_type": "code",
      "source": [
        "for i in range (1000,2001):\n",
        "  if (i%11==2):\n",
        "    print(i)"
      ],
      "metadata": {
        "id": "j1a8_qHWx0WV"
      },
      "execution_count": null,
      "outputs": []
    },
    {
      "cell_type": "markdown",
      "source": [
        "**Difícil 4 –    Faça um programa que leia um valor n, inteiro e positivo, calcule e mostre a seguinte soma: S = 1 + 1/2 + 1/3 + 1/4 + … + 1/n.**"
      ],
      "metadata": {
        "id": "OwJZCjbsyqOd"
      }
    },
    {
      "cell_type": "markdown",
      "source": [
        "**Intermediário 5 – Faça um programa que leia três valores (A, B, C) e mostre-os na ordem lida.  Em seguida, mostre-os em ordem crescente e decrescente.**"
      ],
      "metadata": {
        "id": "pMnbyFaSyiXW"
      }
    },
    {
      "cell_type": "markdown",
      "source": [
        "Fácil 6 –  *Uma loja deseja cadastrar 5 clientes e verificar se o faturamento da loja foi superior a loja B (faturamento = 54000).  Se o faturamento atingir esse valor mostre na tela uma mensagem contendo em quanto foi superado o faturamento.*\n",
        "\n"
      ],
      "metadata": {
        "id": "B0P17D5b1FFV"
      }
    },
    {
      "cell_type": "code",
      "source": [
        "cad=1\n",
        "soma=0\n",
        "while cad<6:\n",
        "    valor = float(input(\"Digite o valor de compra do {}º cliente?\".format(cad)))\n",
        "    soma+=valor\n",
        "    cad+=1\n",
        "if soma>54000:\n",
        "  print(\"O faturamento foi R${} maior que o da Loja B.\".format(54000-soma))\n",
        "else:\n",
        "  print(\"Faturamento não superou a Loja B.\")"
      ],
      "metadata": {
        "id": "wct_X-RBz_sh"
      },
      "execution_count": null,
      "outputs": []
    },
    {
      "cell_type": "code",
      "source": [
        "i = 0\n",
        "acumulado = 0\n",
        "while i < 5:\n",
        "    valor = float(input(\"Digite o valor de compra do cliente \" + str(i)))\n",
        "    acumulado = acumulado + valor\n",
        "    i += 1\n",
        "\n",
        "if acumulado > 54000:\n",
        "    print(\"Superou! em: \", 54000 - acumulado )\n",
        "else:\n",
        "    print(\"não superou\")"
      ],
      "metadata": {
        "id": "6K2cViY81-Ws"
      },
      "execution_count": null,
      "outputs": []
    },
    {
      "cell_type": "markdown",
      "source": [
        "Fácil 11- *Escreva um aplicativo que recebe inteiro e mostra os números pares e ímpares (separados em duas colunas), de 1 em 1 até esse inteiro.*\n",
        "\n"
      ],
      "metadata": {
        "id": "rgjJmJRwc9Jc"
      }
    },
    {
      "cell_type": "code",
      "source": [
        "num=int(input(\"Digite um numero inteiro:\"))\n",
        "cont=0\n",
        "while cont<=num:\n",
        "  if cont%2==0:\n",
        "    print(\"\\n\")\n",
        "    print(cont,end=\"\")\n",
        "  else:\n",
        "    print(\"      \",cont,end=\"\")\n",
        "  cont+=1"
      ],
      "metadata": {
        "id": "3K3PE8TMe1yq"
      },
      "execution_count": null,
      "outputs": []
    },
    {
      "cell_type": "code",
      "source": [
        "def imprimir_pares_e_impares(num):\n",
        "    cont = 0\n",
        "    while cont <= num:\n",
        "        if cont % 2 == 0:\n",
        "            print(cont, \"é par\")\n",
        "        else:\n",
        "            print(cont, \"é ímpar\")\n",
        "        cont += 1\n",
        "\n",
        "num = int(input(\"Digite um número: \"))\n",
        "imprimir_pares_e_impares(num)\n"
      ],
      "metadata": {
        "id": "oVK40_veke2I"
      },
      "execution_count": null,
      "outputs": []
    },
    {
      "cell_type": "code",
      "source": [
        "def printParesImpares(num):\n",
        "  cont=0\n",
        "  while cont<=num:\n",
        "    if cont%2==0:\n",
        "      print(\"\\n\")\n",
        "      print(cont,end=\"\")\n",
        "    else:\n",
        "      print(\"      \",cont,end=\"\")\n",
        "    cont+=1\n",
        "num=int(input(\"Digite um numero: \"))\n",
        "printParesImpares(10)"
      ],
      "metadata": {
        "colab": {
          "base_uri": "https://localhost:8080/"
        },
        "id": "AXbAiDfOkwze",
        "outputId": "45b1ecfe-9249-4739-a61d-062cdb4c0e6e"
      },
      "execution_count": null,
      "outputs": [
        {
          "output_type": "stream",
          "name": "stdout",
          "text": [
            "Digite um numero: 10\n",
            "\n",
            "\n",
            "0       1\n",
            "\n",
            "2       3\n",
            "\n",
            "4       5\n",
            "\n",
            "6       7\n",
            "\n",
            "8       9\n",
            "\n",
            "10"
          ]
        }
      ]
    }
  ]
}